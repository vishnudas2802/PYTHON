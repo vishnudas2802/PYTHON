{
 "cells": [
  {
   "cell_type": "code",
   "execution_count": 1,
   "id": "e65b5ea5",
   "metadata": {},
   "outputs": [],
   "source": [
    "#1. Problem"
   ]
  },
  {
   "cell_type": "code",
   "execution_count": 3,
   "id": "ab08f2d9",
   "metadata": {},
   "outputs": [
    {
     "name": "stdout",
     "output_type": "stream",
     "text": [
      "Twinkle word is not present\n"
     ]
    }
   ],
   "source": [
    "f = open('poem.txt')\n",
    "t = f.read()\n",
    "if 'twinkle' in t:\n",
    "    print('Twinkle word is present')\n",
    "else:\n",
    "    print(\"Twinkle word is not present\")\n",
    "f.close()"
   ]
  },
  {
   "cell_type": "code",
   "execution_count": 4,
   "id": "d80e1796",
   "metadata": {},
   "outputs": [],
   "source": [
    "# 2. Problem"
   ]
  },
  {
   "cell_type": "code",
   "execution_count": 11,
   "id": "5c8196d4",
   "metadata": {},
   "outputs": [],
   "source": [
    "def game():\n",
    "    return 500\n",
    "\n",
    "score = game()\n",
    "\n",
    "with open('Hi-score.txt') as f:\n",
    "    hiscore = int(f.read())\n",
    "    \n",
    "if hiscore<score:\n",
    "    with open('Hi-score.txt','w') as f:\n",
    "        f.write(str(score))"
   ]
  },
  {
   "cell_type": "code",
   "execution_count": 12,
   "id": "0f165192",
   "metadata": {},
   "outputs": [],
   "source": [
    "# 3. Problem"
   ]
  },
  {
   "cell_type": "code",
   "execution_count": 15,
   "id": "86149863",
   "metadata": {},
   "outputs": [],
   "source": [
    "for i in range(2,21):\n",
    "    with open(f'Multiplication_table_of_{i}.txt','w') as f:\n",
    "        for j in range(1,11):\n",
    "            f.write(f'{i}x{j} = {i*j}')\n",
    "            if j!=10:\n",
    "                f.write('\\n')\n",
    "            "
   ]
  },
  {
   "cell_type": "code",
   "execution_count": 16,
   "id": "aa063129",
   "metadata": {},
   "outputs": [],
   "source": [
    "# 4. Problem"
   ]
  },
  {
   "cell_type": "code",
   "execution_count": 17,
   "id": "d002995a",
   "metadata": {},
   "outputs": [],
   "source": [
    "with open('sample.txt') as f:\n",
    "    content = f.read()\n",
    "    \n",
    "content = content.replace('donkey','####')\n",
    "\n",
    "with open('sample.txt','w') as f:\n",
    "    f.write(content)"
   ]
  },
  {
   "cell_type": "code",
   "execution_count": 18,
   "id": "e30c3b58",
   "metadata": {},
   "outputs": [],
   "source": [
    "# 5. Problem"
   ]
  },
  {
   "cell_type": "code",
   "execution_count": 22,
   "id": "ecb5267f",
   "metadata": {},
   "outputs": [],
   "source": [
    "words = ['donkey','monkey','cat','rat']\n",
    "\n",
    "with open('sample.txt') as f:\n",
    "    content = f.read()\n",
    "    \n",
    "\n",
    "for item in words:\n",
    "    content = content.replace(item,'####')\n",
    "    with open('sample.txt','w') as f:\n",
    "        f.write(content)"
   ]
  },
  {
   "cell_type": "code",
   "execution_count": 23,
   "id": "5307856f",
   "metadata": {},
   "outputs": [],
   "source": [
    "# 6. Problem"
   ]
  },
  {
   "cell_type": "code",
   "execution_count": 26,
   "id": "6b48b8c2",
   "metadata": {},
   "outputs": [
    {
     "name": "stdout",
     "output_type": "stream",
     "text": [
      "yes python is present\n"
     ]
    }
   ],
   "source": [
    "with open('log.txt') as f:\n",
    "    content = f.read()\n",
    "\n",
    "if 'python' in content.lower():\n",
    "    print('yes python is present')\n",
    "else:\n",
    "    print('yes python is not present')"
   ]
  },
  {
   "cell_type": "code",
   "execution_count": 27,
   "id": "6bece174",
   "metadata": {},
   "outputs": [],
   "source": [
    "# 7. Problem"
   ]
  },
  {
   "cell_type": "code",
   "execution_count": 30,
   "id": "507c1a00",
   "metadata": {},
   "outputs": [
    {
     "name": "stdout",
     "output_type": "stream",
     "text": [
      "03/22 08:51:06 TRACE  :...read_physical_netif: Home list entries PYTHON returned = 7\n",
      "\n",
      "the python word is present in line no 1\n",
      "03/22 08:51:06 INFO   :...read_physical_netif: index #4, interface CTCD0 has Python address 9.67.116.98, ifidx 4\n",
      "\n",
      "the python word is present in line no 6\n"
     ]
    }
   ],
   "source": [
    "\n",
    "content= True\n",
    "i = 1\n",
    "\n",
    "with open('log.txt') as f:\n",
    "    while content:\n",
    "        content = f.readline()\n",
    "        if 'python' in content.lower():\n",
    "            print(content)\n",
    "            print(f'the python word is present in line no {i}')\n",
    "        i+=1\n"
   ]
  },
  {
   "cell_type": "code",
   "execution_count": 31,
   "id": "7aaffae9",
   "metadata": {},
   "outputs": [],
   "source": [
    "# 8 Problem"
   ]
  },
  {
   "cell_type": "code",
   "execution_count": 33,
   "id": "1ab7170e",
   "metadata": {},
   "outputs": [],
   "source": [
    "with open('this.txt') as f:\n",
    "    content = f.read()\n",
    "    \n",
    "with open('copy.txt','w') as f:\n",
    "    f.write(content)"
   ]
  },
  {
   "cell_type": "code",
   "execution_count": 34,
   "id": "ba6d5493",
   "metadata": {},
   "outputs": [],
   "source": [
    "# 9. Problem"
   ]
  },
  {
   "cell_type": "code",
   "execution_count": 36,
   "id": "1b18244c",
   "metadata": {},
   "outputs": [
    {
     "name": "stdout",
     "output_type": "stream",
     "text": [
      "different content are present\n"
     ]
    }
   ],
   "source": [
    "file1 = 'this.txt'\n",
    "file2 = 'copy.txt'\n",
    "\n",
    "with open(file1) as f:\n",
    "    f1 = f.read()\n",
    "    \n",
    "with open(file2) as f:\n",
    "    f2 = f.read()\n",
    "    \n",
    "if f1==f2:\n",
    "    print('Contents are same')\n",
    "else:\n",
    "    print('different content are present')"
   ]
  },
  {
   "cell_type": "code",
   "execution_count": 37,
   "id": "0694d8de",
   "metadata": {},
   "outputs": [],
   "source": [
    "# 10. Problem"
   ]
  },
  {
   "cell_type": "code",
   "execution_count": 38,
   "id": "630970d2",
   "metadata": {},
   "outputs": [],
   "source": [
    "filename = 'this.txt'\n",
    "\n",
    "with open(filename,'w') as f:\n",
    "    f.write('')"
   ]
  },
  {
   "cell_type": "code",
   "execution_count": 39,
   "id": "a5b6e34c",
   "metadata": {},
   "outputs": [],
   "source": [
    "# 11 Problem"
   ]
  },
  {
   "cell_type": "code",
   "execution_count": 41,
   "id": "f25ba4bf",
   "metadata": {},
   "outputs": [],
   "source": [
    "import os\n",
    "\n",
    "oldname='sample1.txt'\n",
    "newname = 'renamed by Python.txt'\n",
    "\n",
    "with open(oldname) as f:\n",
    "    content = f.read()\n",
    "    \n",
    "with open(newname,'w') as f:\n",
    "    content = f.write(content)\n",
    "    \n",
    "os.remove(oldname)"
   ]
  },
  {
   "cell_type": "code",
   "execution_count": null,
   "id": "d4c73629",
   "metadata": {},
   "outputs": [],
   "source": []
  }
 ],
 "metadata": {
  "kernelspec": {
   "display_name": "Python 3",
   "language": "python",
   "name": "python3"
  },
  "language_info": {
   "codemirror_mode": {
    "name": "ipython",
    "version": 3
   },
   "file_extension": ".py",
   "mimetype": "text/x-python",
   "name": "python",
   "nbconvert_exporter": "python",
   "pygments_lexer": "ipython3",
   "version": "3.8.8"
  }
 },
 "nbformat": 4,
 "nbformat_minor": 5
}
