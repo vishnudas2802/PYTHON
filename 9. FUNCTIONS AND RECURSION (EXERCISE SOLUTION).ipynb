{
 "cells": [
  {
   "cell_type": "code",
   "execution_count": 1,
   "id": "1f2daccf",
   "metadata": {},
   "outputs": [],
   "source": [
    "# 1. Problem"
   ]
  },
  {
   "cell_type": "code",
   "execution_count": 2,
   "id": "357fcd4b",
   "metadata": {},
   "outputs": [
    {
     "name": "stdout",
     "output_type": "stream",
     "text": [
      "77\n"
     ]
    }
   ],
   "source": [
    "def maximum(num1,num2,num3):\n",
    "    if (num1>num2):\n",
    "        if(num1>num3):\n",
    "            return num1\n",
    "        else:\n",
    "            return num3\n",
    "    else:\n",
    "        if(num2>num3):\n",
    "            return num2\n",
    "        else:\n",
    "            return num3\n",
    "        \n",
    "m = maximum(9,4,77)\n",
    "print(m)"
   ]
  },
  {
   "cell_type": "code",
   "execution_count": 4,
   "id": "4f65f18f",
   "metadata": {},
   "outputs": [
    {
     "name": "stdout",
     "output_type": "stream",
     "text": [
      "The Fahrenheit value of 37 is 98.6\n"
     ]
    }
   ],
   "source": [
    "# 2. Problem\n",
    "def cel_far(cel):\n",
    "    far =  (cel * 9/5) + 32\n",
    "    return far\n",
    "\n",
    "k= cel_far(37)\n",
    "print(f'The Fahrenheit value of 37 is {k}')"
   ]
  },
  {
   "cell_type": "code",
   "execution_count": 5,
   "id": "06f828a9",
   "metadata": {},
   "outputs": [],
   "source": [
    "# 3. Problem"
   ]
  },
  {
   "cell_type": "code",
   "execution_count": 9,
   "id": "e68091fb",
   "metadata": {},
   "outputs": [
    {
     "name": "stdout",
     "output_type": "stream",
     "text": [
      "hello all how are u all "
     ]
    }
   ],
   "source": [
    "print('hello',end=\" \")\n",
    "print('all',end=\" \")\n",
    "print('how are u all',end=\" \")"
   ]
  },
  {
   "cell_type": "code",
   "execution_count": 10,
   "id": "1532c592",
   "metadata": {},
   "outputs": [],
   "source": [
    "# 4. Problem"
   ]
  },
  {
   "cell_type": "code",
   "execution_count": 11,
   "id": "d2c55bd4",
   "metadata": {},
   "outputs": [],
   "source": [
    "#n! = [1 x 2 x .......(n-1)] x n\n",
    "# sum n = 1+2+3+......(n-1)+n\n",
    "# sum n = n + sum(n-1)"
   ]
  },
  {
   "cell_type": "code",
   "execution_count": 12,
   "id": "10b046c1",
   "metadata": {},
   "outputs": [],
   "source": [
    "# 5. Problem"
   ]
  },
  {
   "cell_type": "code",
   "execution_count": 15,
   "id": "c187bb66",
   "metadata": {},
   "outputs": [
    {
     "name": "stdout",
     "output_type": "stream",
     "text": [
      "***\n",
      "**\n",
      "*\n"
     ]
    }
   ],
   "source": [
    "n = 3\n",
    "\n",
    "for i in range(n):\n",
    "    print('*'*(n-i))"
   ]
  },
  {
   "cell_type": "code",
   "execution_count": 16,
   "id": "efc2daab",
   "metadata": {},
   "outputs": [],
   "source": [
    "# 7. Problem"
   ]
  },
  {
   "cell_type": "code",
   "execution_count": 17,
   "id": "b96fe2c2",
   "metadata": {},
   "outputs": [
    {
     "name": "stdout",
     "output_type": "stream",
     "text": [
      "     Vishnu is a professor   \n",
      "Vishnu is a professor\n"
     ]
    }
   ],
   "source": [
    "this = \"     Vishnu is a professor   \"\n",
    "\n",
    "print(this)\n",
    "print(this.strip())"
   ]
  },
  {
   "cell_type": "code",
   "execution_count": 18,
   "id": "36c94c16",
   "metadata": {},
   "outputs": [
    {
     "name": "stdout",
     "output_type": "stream",
     "text": [
      "is a professor\n"
     ]
    }
   ],
   "source": [
    "def remove_and_strip(string,word):\n",
    "    newstr= string.replace(word,'')\n",
    "    return newstr.strip()\n",
    "\n",
    "this = \"     Vishnu is a professor   \"\n",
    "n = remove_and_strip(this,'Vishnu')\n",
    "\n",
    "print(n)"
   ]
  },
  {
   "cell_type": "code",
   "execution_count": null,
   "id": "a99df878",
   "metadata": {},
   "outputs": [],
   "source": []
  }
 ],
 "metadata": {
  "kernelspec": {
   "display_name": "Python 3",
   "language": "python",
   "name": "python3"
  },
  "language_info": {
   "codemirror_mode": {
    "name": "ipython",
    "version": 3
   },
   "file_extension": ".py",
   "mimetype": "text/x-python",
   "name": "python",
   "nbconvert_exporter": "python",
   "pygments_lexer": "ipython3",
   "version": "3.8.8"
  }
 },
 "nbformat": 4,
 "nbformat_minor": 5
}
