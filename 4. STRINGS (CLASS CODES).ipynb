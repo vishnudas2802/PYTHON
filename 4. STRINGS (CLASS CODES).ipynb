{
 "cells": [
  {
   "cell_type": "code",
   "execution_count": 1,
   "id": "04deb939",
   "metadata": {},
   "outputs": [],
   "source": [
    "a= 'Vishnu'"
   ]
  },
  {
   "cell_type": "code",
   "execution_count": 2,
   "id": "79764c80",
   "metadata": {},
   "outputs": [],
   "source": [
    "b= \"Vishnu\""
   ]
  },
  {
   "cell_type": "code",
   "execution_count": 3,
   "id": "2f588969",
   "metadata": {},
   "outputs": [],
   "source": [
    "c= '''Vishnu'''"
   ]
  },
  {
   "cell_type": "code",
   "execution_count": 5,
   "id": "3ec48f82",
   "metadata": {},
   "outputs": [
    {
     "ename": "SyntaxError",
     "evalue": "invalid syntax (Temp/ipykernel_8272/662081698.py, line 1)",
     "output_type": "error",
     "traceback": [
      "\u001b[1;36m  File \u001b[1;32m\"C:\\Users\\win10\\AppData\\Local\\Temp/ipykernel_8272/662081698.py\"\u001b[1;36m, line \u001b[1;32m1\u001b[0m\n\u001b[1;33m    d= 'Prof Vishnu's Python Training'\u001b[0m\n\u001b[1;37m                    ^\u001b[0m\n\u001b[1;31mSyntaxError\u001b[0m\u001b[1;31m:\u001b[0m invalid syntax\n"
     ]
    }
   ],
   "source": [
    "d= 'Prof Vishnu's Python Training'"
   ]
  },
  {
   "cell_type": "code",
   "execution_count": 6,
   "id": "2c7552c2",
   "metadata": {},
   "outputs": [],
   "source": [
    "d=\"Prof Vishnu's Python Training\""
   ]
  },
  {
   "cell_type": "code",
   "execution_count": 7,
   "id": "2a94c78f",
   "metadata": {},
   "outputs": [],
   "source": [
    "e='Prof Vishnu\"s Python Training'"
   ]
  },
  {
   "cell_type": "code",
   "execution_count": 8,
   "id": "c191edc0",
   "metadata": {},
   "outputs": [],
   "source": [
    "f='''Prof' Vishnu\"s Python Training'''"
   ]
  },
  {
   "cell_type": "code",
   "execution_count": 9,
   "id": "f305505c",
   "metadata": {},
   "outputs": [],
   "source": [
    "h= \"Vishnudas\""
   ]
  },
  {
   "cell_type": "code",
   "execution_count": 10,
   "id": "b3cb5122",
   "metadata": {},
   "outputs": [
    {
     "data": {
      "text/plain": [
       "'Vishnu'"
      ]
     },
     "execution_count": 10,
     "metadata": {},
     "output_type": "execute_result"
    }
   ],
   "source": [
    "h[0:6]"
   ]
  },
  {
   "cell_type": "code",
   "execution_count": 11,
   "id": "843e086e",
   "metadata": {},
   "outputs": [
    {
     "data": {
      "text/plain": [
       "'Vishn'"
      ]
     },
     "execution_count": 11,
     "metadata": {},
     "output_type": "execute_result"
    }
   ],
   "source": [
    "h[-9:-4]"
   ]
  },
  {
   "cell_type": "code",
   "execution_count": 21,
   "id": "45d8ef3c",
   "metadata": {},
   "outputs": [],
   "source": [
    "h = 'Vishnudas'"
   ]
  },
  {
   "cell_type": "code",
   "execution_count": 22,
   "id": "b5398809",
   "metadata": {},
   "outputs": [
    {
     "data": {
      "text/plain": [
       "'i'"
      ]
     },
     "execution_count": 22,
     "metadata": {},
     "output_type": "execute_result"
    }
   ],
   "source": [
    "h[1]"
   ]
  },
  {
   "cell_type": "code",
   "execution_count": 23,
   "id": "fb36807a",
   "metadata": {},
   "outputs": [
    {
     "data": {
      "text/plain": [
       "'n'"
      ]
     },
     "execution_count": 23,
     "metadata": {},
     "output_type": "execute_result"
    }
   ],
   "source": [
    "h[4]"
   ]
  },
  {
   "cell_type": "code",
   "execution_count": 24,
   "id": "a4981251",
   "metadata": {},
   "outputs": [
    {
     "data": {
      "text/plain": [
       "'a'"
      ]
     },
     "execution_count": 24,
     "metadata": {},
     "output_type": "execute_result"
    }
   ],
   "source": [
    "h[-2]"
   ]
  },
  {
   "cell_type": "code",
   "execution_count": 16,
   "id": "d13fffea",
   "metadata": {},
   "outputs": [],
   "source": [
    "g= 'Hello all I am a python programmer'"
   ]
  },
  {
   "cell_type": "code",
   "execution_count": 17,
   "id": "9c93b2f0",
   "metadata": {},
   "outputs": [
    {
     "data": {
      "text/plain": [
       "'HloalIa  y'"
      ]
     },
     "execution_count": 17,
     "metadata": {},
     "output_type": "execute_result"
    }
   ],
   "source": [
    "g[0:19:2]"
   ]
  },
  {
   "cell_type": "code",
   "execution_count": 25,
   "id": "18d3785c",
   "metadata": {},
   "outputs": [
    {
     "data": {
      "text/plain": [
       "'Vishnu'"
      ]
     },
     "execution_count": 25,
     "metadata": {},
     "output_type": "execute_result"
    }
   ],
   "source": [
    "h[:6]"
   ]
  },
  {
   "cell_type": "code",
   "execution_count": 26,
   "id": "30d2c8ce",
   "metadata": {},
   "outputs": [
    {
     "data": {
      "text/plain": [
       "'das'"
      ]
     },
     "execution_count": 26,
     "metadata": {},
     "output_type": "execute_result"
    }
   ],
   "source": [
    "h[6:]"
   ]
  },
  {
   "cell_type": "code",
   "execution_count": 27,
   "id": "92a4b5b3",
   "metadata": {},
   "outputs": [
    {
     "data": {
      "text/plain": [
       "9"
      ]
     },
     "execution_count": 27,
     "metadata": {},
     "output_type": "execute_result"
    }
   ],
   "source": [
    "len(h)"
   ]
  },
  {
   "cell_type": "code",
   "execution_count": 28,
   "id": "cd640093",
   "metadata": {},
   "outputs": [
    {
     "data": {
      "text/plain": [
       "True"
      ]
     },
     "execution_count": 28,
     "metadata": {},
     "output_type": "execute_result"
    }
   ],
   "source": [
    "h.endswith('das')"
   ]
  },
  {
   "cell_type": "code",
   "execution_count": 29,
   "id": "54a30509",
   "metadata": {},
   "outputs": [
    {
     "data": {
      "text/plain": [
       "False"
      ]
     },
     "execution_count": 29,
     "metadata": {},
     "output_type": "execute_result"
    }
   ],
   "source": [
    "h.endswith('Vishnu')"
   ]
  },
  {
   "cell_type": "code",
   "execution_count": 30,
   "id": "3179fe25",
   "metadata": {},
   "outputs": [],
   "source": [
    "g= 'Hello all I am a python programmer'"
   ]
  },
  {
   "cell_type": "code",
   "execution_count": 31,
   "id": "7b01d24e",
   "metadata": {},
   "outputs": [
    {
     "data": {
      "text/plain": [
       "4"
      ]
     },
     "execution_count": 31,
     "metadata": {},
     "output_type": "execute_result"
    }
   ],
   "source": [
    "g.count('l')"
   ]
  },
  {
   "cell_type": "code",
   "execution_count": 32,
   "id": "c8904175",
   "metadata": {},
   "outputs": [
    {
     "data": {
      "text/plain": [
       "2"
      ]
     },
     "execution_count": 32,
     "metadata": {},
     "output_type": "execute_result"
    }
   ],
   "source": [
    "g.count('am')"
   ]
  },
  {
   "cell_type": "code",
   "execution_count": 33,
   "id": "cce0f77e",
   "metadata": {},
   "outputs": [
    {
     "data": {
      "text/plain": [
       "6"
      ]
     },
     "execution_count": 33,
     "metadata": {},
     "output_type": "execute_result"
    }
   ],
   "source": [
    "g.count(' ')"
   ]
  },
  {
   "cell_type": "code",
   "execution_count": 34,
   "id": "acfba981",
   "metadata": {},
   "outputs": [],
   "source": [
    "m = 'hello all I am a python programmer'"
   ]
  },
  {
   "cell_type": "code",
   "execution_count": 35,
   "id": "313dfb43",
   "metadata": {},
   "outputs": [
    {
     "data": {
      "text/plain": [
       "'Hello all i am a python programmer'"
      ]
     },
     "execution_count": 35,
     "metadata": {},
     "output_type": "execute_result"
    }
   ],
   "source": [
    "m.capitalize()"
   ]
  },
  {
   "cell_type": "code",
   "execution_count": 36,
   "id": "1d58ec39",
   "metadata": {},
   "outputs": [
    {
     "data": {
      "text/plain": [
       "12"
      ]
     },
     "execution_count": 36,
     "metadata": {},
     "output_type": "execute_result"
    }
   ],
   "source": [
    "m.find('am')"
   ]
  },
  {
   "cell_type": "code",
   "execution_count": 37,
   "id": "5d9407e6",
   "metadata": {},
   "outputs": [
    {
     "data": {
      "text/plain": [
       "'Hello all I am a python coder'"
      ]
     },
     "execution_count": 37,
     "metadata": {},
     "output_type": "execute_result"
    }
   ],
   "source": [
    "g.replace('programmer','coder')"
   ]
  },
  {
   "cell_type": "code",
   "execution_count": 38,
   "id": "be1739e9",
   "metadata": {},
   "outputs": [],
   "source": [
    "ii = 'Hello all i am a python programmer'"
   ]
  },
  {
   "cell_type": "code",
   "execution_count": 39,
   "id": "c62b026d",
   "metadata": {},
   "outputs": [
    {
     "name": "stdout",
     "output_type": "stream",
     "text": [
      "Hello all i am a python programmer\n"
     ]
    }
   ],
   "source": [
    "print(ii)"
   ]
  },
  {
   "cell_type": "code",
   "execution_count": 40,
   "id": "2035a7a0",
   "metadata": {},
   "outputs": [],
   "source": [
    "ii = 'Hello all \\n i am a python programmer'"
   ]
  },
  {
   "cell_type": "code",
   "execution_count": 41,
   "id": "9ee4705d",
   "metadata": {},
   "outputs": [
    {
     "name": "stdout",
     "output_type": "stream",
     "text": [
      "Hello all \n",
      " i am a python programmer\n"
     ]
    }
   ],
   "source": [
    "print(ii)"
   ]
  },
  {
   "cell_type": "code",
   "execution_count": 44,
   "id": "b4980492",
   "metadata": {},
   "outputs": [],
   "source": [
    "ji = 'Hello all \\n i a\\tm a python programmer'"
   ]
  },
  {
   "cell_type": "code",
   "execution_count": 45,
   "id": "4202fd72",
   "metadata": {},
   "outputs": [
    {
     "name": "stdout",
     "output_type": "stream",
     "text": [
      "Hello all \n",
      " i a\tm a python programmer\n"
     ]
    }
   ],
   "source": [
    "print(ji)"
   ]
  },
  {
   "cell_type": "code",
   "execution_count": 46,
   "id": "62dfd237",
   "metadata": {},
   "outputs": [],
   "source": [
    "jj = 'Hell\\'o all am a python programmer'"
   ]
  },
  {
   "cell_type": "code",
   "execution_count": 47,
   "id": "2cf261db",
   "metadata": {},
   "outputs": [
    {
     "name": "stdout",
     "output_type": "stream",
     "text": [
      "Hell'o all am a python programmer\n"
     ]
    }
   ],
   "source": [
    "print(jj)"
   ]
  },
  {
   "cell_type": "code",
   "execution_count": 48,
   "id": "a43b8484",
   "metadata": {},
   "outputs": [],
   "source": [
    "jk = 'hello\\\\o all i am a python programmer'"
   ]
  },
  {
   "cell_type": "code",
   "execution_count": 49,
   "id": "c0f7d752",
   "metadata": {},
   "outputs": [
    {
     "name": "stdout",
     "output_type": "stream",
     "text": [
      "hello\\o all i am a python programmer\n"
     ]
    }
   ],
   "source": [
    "print(jk)"
   ]
  },
  {
   "cell_type": "code",
   "execution_count": null,
   "id": "8510366b",
   "metadata": {},
   "outputs": [],
   "source": []
  }
 ],
 "metadata": {
  "kernelspec": {
   "display_name": "Python 3 (ipykernel)",
   "language": "python",
   "name": "python3"
  },
  "language_info": {
   "codemirror_mode": {
    "name": "ipython",
    "version": 3
   },
   "file_extension": ".py",
   "mimetype": "text/x-python",
   "name": "python",
   "nbconvert_exporter": "python",
   "pygments_lexer": "ipython3",
   "version": "3.9.7"
  }
 },
 "nbformat": 4,
 "nbformat_minor": 5
}
