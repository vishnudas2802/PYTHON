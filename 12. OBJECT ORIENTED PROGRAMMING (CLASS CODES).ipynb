{
 "cells": [
  {
   "cell_type": "code",
   "execution_count": 1,
   "id": "06db85f2",
   "metadata": {},
   "outputs": [
    {
     "name": "stdout",
     "output_type": "stream",
     "text": [
      "the sum of two no. is 30\n"
     ]
    }
   ],
   "source": [
    "# procedural oriented programming\n",
    "a = 10\n",
    "b = 20\n",
    "sum = a + b\n",
    "print(f'the sum of two no. is {sum}')"
   ]
  },
  {
   "cell_type": "code",
   "execution_count": 9,
   "id": "4af33b1b",
   "metadata": {},
   "outputs": [
    {
     "name": "stdout",
     "output_type": "stream",
     "text": [
      "The sum of 2 no. is 90\n"
     ]
    }
   ],
   "source": [
    "# oops\n",
    "\n",
    "class calculator:\n",
    "    def add(self):\n",
    "        sum = self.d + self.e\n",
    "        print(f'The sum of 2 no. is {sum}')\n",
    "        \n",
    "calc = calculator() # object instantiation\n",
    "calc.d = 40\n",
    "calc.e = 50\n",
    "\n",
    "calc.add()"
   ]
  },
  {
   "cell_type": "code",
   "execution_count": 14,
   "id": "27cb6568",
   "metadata": {},
   "outputs": [
    {
     "name": "stdout",
     "output_type": "stream",
     "text": [
      "Vishnu works at Google,good\n",
      "Shyam works at Wipro,good\n"
     ]
    }
   ],
   "source": [
    "class Employee:\n",
    "    company = 'Google'\n",
    "    def details(self):\n",
    "        k = 'good'\n",
    "        print(f'{self.name} works at {self.company},{k}')\n",
    "        \n",
    "employe1 = Employee()\n",
    "employe2 = Employee()\n",
    "\n",
    "employe1.name = 'Vishnu'\n",
    "employe2.name = 'Shyam'\n",
    "employe2.company = 'Wipro'\n",
    "\n",
    "employe1.details()\n",
    "employe2.details()"
   ]
  },
  {
   "cell_type": "code",
   "execution_count": 38,
   "id": "c684e396",
   "metadata": {},
   "outputs": [
    {
     "name": "stdout",
     "output_type": "stream",
     "text": [
      "goodday all\n"
     ]
    }
   ],
   "source": [
    "class greet:\n",
    "    @staticmethod\n",
    "    def greeting():\n",
    "        print('goodday all')\n",
    "        \n",
    "g = greet()\n",
    "\n",
    "g.greeting()"
   ]
  },
  {
   "cell_type": "code",
   "execution_count": 48,
   "id": "50d9a945",
   "metadata": {},
   "outputs": [
    {
     "name": "stdout",
     "output_type": "stream",
     "text": [
      "goodday all\n"
     ]
    }
   ],
   "source": [
    "class greet:\n",
    "    def __init__(self):\n",
    "        print('goodday all')\n",
    "        \n",
    "g = greet()\n"
   ]
  },
  {
   "cell_type": "code",
   "execution_count": 3,
   "id": "f28acc34",
   "metadata": {},
   "outputs": [
    {
     "ename": "NameError",
     "evalue": "name 'Vishnu' is not defined",
     "output_type": "error",
     "traceback": [
      "\u001b[1;31m---------------------------------------------------------------------------\u001b[0m",
      "\u001b[1;31mNameError\u001b[0m                                 Traceback (most recent call last)",
      "\u001b[1;32m~\\AppData\\Local\\Temp/ipykernel_8768/2668850522.py\u001b[0m in \u001b[0;36m<module>\u001b[1;34m\u001b[0m\n\u001b[0;32m      9\u001b[0m \u001b[1;33m\u001b[0m\u001b[0m\n\u001b[0;32m     10\u001b[0m \u001b[1;33m\u001b[0m\u001b[0m\n\u001b[1;32m---> 11\u001b[1;33m \u001b[0mVishnu\u001b[0m \u001b[1;33m=\u001b[0m \u001b[0mEmployee\u001b[0m\u001b[1;33m(\u001b[0m\u001b[1;34m\"I am shyam\"\u001b[0m\u001b[1;33m,\u001b[0m \u001b[1;34m\"from Mumbai\"\u001b[0m\u001b[1;33m)\u001b[0m\u001b[1;33m\u001b[0m\u001b[1;33m\u001b[0m\u001b[0m\n\u001b[0m",
      "\u001b[1;32m~\\AppData\\Local\\Temp/ipykernel_8768/2668850522.py\u001b[0m in \u001b[0;36m__init__\u001b[1;34m(self, sign, location)\u001b[0m\n\u001b[0;32m      3\u001b[0m     \u001b[0mcompany\u001b[0m \u001b[1;33m=\u001b[0m \u001b[1;34m\"Google\"\u001b[0m\u001b[1;33m\u001b[0m\u001b[1;33m\u001b[0m\u001b[0m\n\u001b[0;32m      4\u001b[0m     \u001b[1;32mdef\u001b[0m \u001b[0m__init__\u001b[0m\u001b[1;33m(\u001b[0m\u001b[0mself\u001b[0m\u001b[1;33m,\u001b[0m\u001b[0msign\u001b[0m\u001b[1;33m,\u001b[0m\u001b[0mlocation\u001b[0m\u001b[1;33m)\u001b[0m\u001b[1;33m:\u001b[0m\u001b[1;33m\u001b[0m\u001b[1;33m\u001b[0m\u001b[0m\n\u001b[1;32m----> 5\u001b[1;33m         \u001b[0mself\u001b[0m\u001b[1;33m.\u001b[0m\u001b[0msign\u001b[0m\u001b[1;33m=\u001b[0m \u001b[0mVishnu\u001b[0m\u001b[1;33m\u001b[0m\u001b[1;33m\u001b[0m\u001b[0m\n\u001b[0m\u001b[0;32m      6\u001b[0m         \u001b[0mprint\u001b[0m\u001b[1;33m(\u001b[0m\u001b[1;34mf\"HELLO SIR, {sign} {location}\"\u001b[0m\u001b[1;33m)\u001b[0m\u001b[1;33m\u001b[0m\u001b[1;33m\u001b[0m\u001b[0m\n\u001b[0;32m      7\u001b[0m     \u001b[1;32mdef\u001b[0m \u001b[0mgetSalary\u001b[0m\u001b[1;33m(\u001b[0m\u001b[0mself\u001b[0m\u001b[1;33m)\u001b[0m\u001b[1;33m:\u001b[0m\u001b[1;33m\u001b[0m\u001b[1;33m\u001b[0m\u001b[0m\n",
      "\u001b[1;31mNameError\u001b[0m: name 'Vishnu' is not defined"
     ]
    }
   ],
   "source": [
    "# __init__() function with arguments\n",
    "class Employee:\n",
    "    company = \"Google\"\n",
    "    def __init__(self,sign,location):\n",
    "        self.sign= Vishnu\n",
    "        print(f\"HELLO SIR, {sign} {location}\")\n",
    "    def getSalary(self):\n",
    "        print(\"The salary of the Employee is 100 INR per day\")\n",
    "    \n",
    "\n",
    "Vishnu = Employee(\"I am shyam\", \"from Mumbai\")"
   ]
  },
  {
   "cell_type": "code",
   "execution_count": null,
   "id": "94f8943c",
   "metadata": {},
   "outputs": [],
   "source": []
  }
 ],
 "metadata": {
  "kernelspec": {
   "display_name": "Python 3 (ipykernel)",
   "language": "python",
   "name": "python3"
  },
  "language_info": {
   "codemirror_mode": {
    "name": "ipython",
    "version": 3
   },
   "file_extension": ".py",
   "mimetype": "text/x-python",
   "name": "python",
   "nbconvert_exporter": "python",
   "pygments_lexer": "ipython3",
   "version": "3.9.7"
  }
 },
 "nbformat": 4,
 "nbformat_minor": 5
}
