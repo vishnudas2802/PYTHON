{
 "cells": [
  {
   "cell_type": "code",
   "execution_count": 1,
   "id": "4fe29df9",
   "metadata": {},
   "outputs": [],
   "source": [
    "# 1. Problem"
   ]
  },
  {
   "cell_type": "code",
   "execution_count": 2,
   "id": "84f7d1e5",
   "metadata": {},
   "outputs": [
    {
     "name": "stdout",
     "output_type": "stream",
     "text": [
      "Please enter the table u want5\n",
      "5 X 1 = 5\n",
      "5 X 2 = 10\n",
      "5 X 3 = 15\n",
      "5 X 4 = 20\n",
      "5 X 5 = 25\n",
      "5 X 6 = 30\n",
      "5 X 7 = 35\n",
      "5 X 8 = 40\n",
      "5 X 9 = 45\n",
      "5 X 10 = 50\n"
     ]
    }
   ],
   "source": [
    "num = int(input('Please enter the table u want'))\n",
    "\n",
    "for i in range(1,11):\n",
    "    print(f\"{num} X {i} = {num*i}\")"
   ]
  },
  {
   "cell_type": "code",
   "execution_count": 3,
   "id": "440a3ec2",
   "metadata": {},
   "outputs": [],
   "source": [
    "# 2. Problem"
   ]
  },
  {
   "cell_type": "code",
   "execution_count": 6,
   "id": "7f0bf623",
   "metadata": {},
   "outputs": [
    {
     "name": "stdout",
     "output_type": "stream",
     "text": [
      "Hello Vipul\n",
      "Hello Vishnudas\n"
     ]
    }
   ],
   "source": [
    "L1 = ['Shubhankar', 'Neeraj', 'Vipul', 'Vishnudas']\n",
    "\n",
    "for name in L1:\n",
    "    if name.startswith('V'):\n",
    "        print('Hello '+name)\n"
   ]
  },
  {
   "cell_type": "code",
   "execution_count": 7,
   "id": "34957149",
   "metadata": {},
   "outputs": [],
   "source": [
    "# 4 Problem "
   ]
  },
  {
   "cell_type": "code",
   "execution_count": 9,
   "id": "8ab70485",
   "metadata": {},
   "outputs": [
    {
     "name": "stdout",
     "output_type": "stream",
     "text": [
      "Enter the number: 10\n",
      "This number is not prime\n"
     ]
    }
   ],
   "source": [
    "num = int(input('Enter the number: '))\n",
    "prime= True\n",
    "\n",
    "for i in range(2,num):\n",
    "    if (num%i == 0):\n",
    "        prime= False\n",
    "        break\n",
    "        \n",
    "if prime:\n",
    "    print('This number is prime')\n",
    "else:\n",
    "    print('This number is not prime')"
   ]
  },
  {
   "cell_type": "code",
   "execution_count": 10,
   "id": "6707a3ee",
   "metadata": {},
   "outputs": [],
   "source": [
    "# 6 Problem"
   ]
  },
  {
   "cell_type": "code",
   "execution_count": 12,
   "id": "b024745d",
   "metadata": {},
   "outputs": [
    {
     "name": "stdout",
     "output_type": "stream",
     "text": [
      "Enter the number whose factorial has to be calculated: 3\n",
      "The factorial of 3 is 6\n"
     ]
    }
   ],
   "source": [
    "fact = int(input('Enter the number whose factorial has to be calculated: '))\n",
    "\n",
    "factorial = 1\n",
    "\n",
    "for i in range(1,1+fact):\n",
    "    factorial = factorial * i\n",
    "print(f'The factorial of {fact} is {factorial}')"
   ]
  },
  {
   "cell_type": "code",
   "execution_count": 13,
   "id": "65fce28f",
   "metadata": {},
   "outputs": [],
   "source": [
    "#7. Problem"
   ]
  },
  {
   "cell_type": "code",
   "execution_count": 27,
   "id": "f7331890",
   "metadata": {},
   "outputs": [
    {
     "name": "stdout",
     "output_type": "stream",
     "text": [
      "*\n",
      "***\n",
      "*****\n"
     ]
    }
   ],
   "source": [
    "for i in range(3):\n",
    "    print('*' * (2*i+1))"
   ]
  },
  {
   "cell_type": "code",
   "execution_count": 28,
   "id": "683407bd",
   "metadata": {},
   "outputs": [],
   "source": [
    "# 8. Problem"
   ]
  },
  {
   "cell_type": "code",
   "execution_count": 49,
   "id": "97b3e3eb",
   "metadata": {},
   "outputs": [
    {
     "name": "stdout",
     "output_type": "stream",
     "text": [
      "     *    \n",
      "    ***   \n",
      "   *****  \n"
     ]
    }
   ],
   "source": [
    "n = 3\n",
    "\n",
    "for i in range(3):\n",
    "    print(f' {\" \"*(n-i-1)}  {\"*\"*(2*i+1)}  {\" \"*(n-i-1)}')"
   ]
  },
  {
   "cell_type": "code",
   "execution_count": null,
   "id": "cea3d5ea",
   "metadata": {},
   "outputs": [],
   "source": []
  }
 ],
 "metadata": {
  "kernelspec": {
   "display_name": "Python 3 (ipykernel)",
   "language": "python",
   "name": "python3"
  },
  "language_info": {
   "codemirror_mode": {
    "name": "ipython",
    "version": 3
   },
   "file_extension": ".py",
   "mimetype": "text/x-python",
   "name": "python",
   "nbconvert_exporter": "python",
   "pygments_lexer": "ipython3",
   "version": "3.9.7"
  }
 },
 "nbformat": 4,
 "nbformat_minor": 5
}
