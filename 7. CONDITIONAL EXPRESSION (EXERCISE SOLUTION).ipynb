{
 "cells": [
  {
   "cell_type": "code",
   "execution_count": 1,
   "id": "a85c0400",
   "metadata": {},
   "outputs": [],
   "source": [
    "# 1. Problem"
   ]
  },
  {
   "cell_type": "code",
   "execution_count": 7,
   "id": "805e5973",
   "metadata": {},
   "outputs": [
    {
     "name": "stdout",
     "output_type": "stream",
     "text": [
      "Please enter the no. 1: 88\n",
      "Please enter the no. 2: 55\n",
      "Please enter the no. 3: 44\n",
      "Please enter the no. 4: 2\n",
      "The highest no. is:  88\n"
     ]
    }
   ],
   "source": [
    "a = int(input('Please enter the no. 1: '))\n",
    "b = int(input('Please enter the no. 2: '))\n",
    "c = int(input('Please enter the no. 3: '))\n",
    "d = int(input('Please enter the no. 4: '))\n",
    "\n",
    "if a>=b:\n",
    "    k=a\n",
    "else:\n",
    "    k=b\n",
    "\n",
    "if c>=d:\n",
    "    j=c\n",
    "else:\n",
    "    j=c\n",
    "\n",
    "if k>=j:\n",
    "    print('The highest no. is: ',k)\n",
    "else:\n",
    "    print('The highest no. is: ',j)"
   ]
  },
  {
   "cell_type": "code",
   "execution_count": 8,
   "id": "836200f8",
   "metadata": {},
   "outputs": [],
   "source": [
    "# 3. Problem"
   ]
  },
  {
   "cell_type": "code",
   "execution_count": 10,
   "id": "cd4ba6f2",
   "metadata": {},
   "outputs": [
    {
     "name": "stdout",
     "output_type": "stream",
     "text": [
      "Enter marks of the subject no.1: 32\n",
      "Enter marks of the subject no.2: 55\n",
      "Enter marks of the subject no.3: 99\n",
      "FAIL\n"
     ]
    }
   ],
   "source": [
    "a = int(input('Enter marks of the subject no.1: '))\n",
    "b = int(input('Enter marks of the subject no.2: '))\n",
    "c = int(input('Enter marks of the subject no.3: '))\n",
    "avg=(a+b+c)/3\n",
    "\n",
    "if a>=33 and b>=33 and c>=33 and avg>=40:\n",
    "    print('You are PASS')\n",
    "else:\n",
    "    print('FAIL')"
   ]
  },
  {
   "cell_type": "code",
   "execution_count": 16,
   "id": "91f19d1b",
   "metadata": {},
   "outputs": [],
   "source": [
    "# 3. Problem"
   ]
  },
  {
   "cell_type": "code",
   "execution_count": 15,
   "id": "c77d4ffd",
   "metadata": {},
   "outputs": [
    {
     "name": "stdout",
     "output_type": "stream",
     "text": [
      "Enter the statement: python\n"
     ]
    }
   ],
   "source": [
    "a = input('Enter the statement: ')\n",
    "\n",
    "if a=='make a lot of money' or a== 'buy now' or a=='subscribe this' or a=='click this':\n",
    "    print('SPAM')"
   ]
  },
  {
   "cell_type": "code",
   "execution_count": 17,
   "id": "b163fd6a",
   "metadata": {},
   "outputs": [],
   "source": [
    "# 4. Problem"
   ]
  },
  {
   "cell_type": "code",
   "execution_count": 25,
   "id": "5a0850b1",
   "metadata": {},
   "outputs": [
    {
     "name": "stdout",
     "output_type": "stream",
     "text": [
      "Please enter ur name: Vishnu\n",
      "Your name has less than 10 characters\n"
     ]
    }
   ],
   "source": [
    "name = input('Please enter ur name: ')\n",
    "a = len(name)\n",
    "if a<10:\n",
    "    print('Your name has less than 10 characters')\n",
    "else:\n",
    "    print('Your name has more than or equal to 10 characters')"
   ]
  },
  {
   "cell_type": "code",
   "execution_count": 26,
   "id": "0bc2437d",
   "metadata": {},
   "outputs": [],
   "source": [
    "# 5 Problem"
   ]
  },
  {
   "cell_type": "code",
   "execution_count": 29,
   "id": "dd3a056c",
   "metadata": {},
   "outputs": [
    {
     "name": "stdout",
     "output_type": "stream",
     "text": [
      "Please enter the name: Neeraj\n",
      "the name is not present\n"
     ]
    }
   ],
   "source": [
    "name = input('Please enter the name: ')\n",
    "a = ['Vipul','Vishnu', 'Shubhankar']\n",
    "if name==a[0] or name==a[1] or name==a[2]:\n",
    "    print('The name is present')\n",
    "else:\n",
    "    print(\"the name is not present\")"
   ]
  },
  {
   "cell_type": "code",
   "execution_count": 30,
   "id": "6252c583",
   "metadata": {},
   "outputs": [],
   "source": [
    "# 6. Problem"
   ]
  },
  {
   "cell_type": "code",
   "execution_count": 33,
   "id": "983cdbe1",
   "metadata": {},
   "outputs": [
    {
     "name": "stdout",
     "output_type": "stream",
     "text": [
      "Please enter the marks scored: 45\n",
      "Enter the total marks: 100\n",
      "F\n"
     ]
    }
   ],
   "source": [
    "a = int(input('Please enter the marks scored: '))\n",
    "b = int(input('Enter the total marks: '))\n",
    "per= (a/b)*100\n",
    "\n",
    "if per>=90:\n",
    "    print('A+')\n",
    "elif per>=80:\n",
    "    print('A')\n",
    "elif per>=70:\n",
    "    print('B')\n",
    "elif per>=60:\n",
    "    print('C')\n",
    "elif per>=50:\n",
    "    print('D')\n",
    "else:\n",
    "    print('F')\n",
    "\n",
    "    "
   ]
  },
  {
   "cell_type": "code",
   "execution_count": null,
   "id": "ac205023",
   "metadata": {},
   "outputs": [],
   "source": []
  }
 ],
 "metadata": {
  "kernelspec": {
   "display_name": "Python 3 (ipykernel)",
   "language": "python",
   "name": "python3"
  },
  "language_info": {
   "codemirror_mode": {
    "name": "ipython",
    "version": 3
   },
   "file_extension": ".py",
   "mimetype": "text/x-python",
   "name": "python",
   "nbconvert_exporter": "python",
   "pygments_lexer": "ipython3",
   "version": "3.9.7"
  }
 },
 "nbformat": 4,
 "nbformat_minor": 5
}
