{
 "cells": [
  {
   "cell_type": "code",
   "execution_count": 1,
   "id": "65bb5056",
   "metadata": {},
   "outputs": [],
   "source": [
    "# 1. Problem"
   ]
  },
  {
   "cell_type": "code",
   "execution_count": 2,
   "id": "8e030f76",
   "metadata": {},
   "outputs": [
    {
     "name": "stdout",
     "output_type": "stream",
     "text": [
      "dict_keys(['Kutta', 'gaai', 'ghoda'])\n",
      "Please enter the word which u want to get translated to englishghoda\n"
     ]
    },
    {
     "data": {
      "text/plain": [
       "'horse'"
      ]
     },
     "execution_count": 2,
     "metadata": {},
     "output_type": "execute_result"
    }
   ],
   "source": [
    "htoe = {'Kutta':'dog','gaai':'Cow','ghoda':'horse'}\n",
    "print(htoe.keys())\n",
    "b = input('Please enter the word which u want to get translated to english')\n",
    "htoe.get(b)"
   ]
  },
  {
   "cell_type": "code",
   "execution_count": 3,
   "id": "5c676f12",
   "metadata": {},
   "outputs": [],
   "source": [
    "# 2. Problem"
   ]
  },
  {
   "cell_type": "code",
   "execution_count": 5,
   "id": "140d431c",
   "metadata": {},
   "outputs": [
    {
     "name": "stdout",
     "output_type": "stream",
     "text": [
      "kindly enter the no. 1: 5\n",
      "kindly enter the no. 2: 6\n",
      "kindly enter the no. 3: 7\n",
      "kindly enter the no. 4: 2\n",
      "kindly enter the no. 5: 3\n",
      "kindly enter the no. 6: 4\n",
      "kindly enter the no. 7: 56\n",
      "kindly enter the no. 8: 7\n",
      "{2, 3, 4, 5, 6, 7, 56}\n"
     ]
    }
   ],
   "source": [
    "a = int(input('kindly enter the no. 1: '))\n",
    "b = int(input('kindly enter the no. 2: '))\n",
    "c = int(input('kindly enter the no. 3: '))\n",
    "d = int(input('kindly enter the no. 4: '))\n",
    "e = int(input('kindly enter the no. 5: '))\n",
    "f = int(input('kindly enter the no. 6: '))\n",
    "g = int(input('kindly enter the no. 7: '))\n",
    "h = int(input('kindly enter the no. 8: '))\n",
    "kk = {a,b,c,d,e,f,g,h}\n",
    "print(kk)"
   ]
  },
  {
   "cell_type": "code",
   "execution_count": 6,
   "id": "cc0ea183",
   "metadata": {},
   "outputs": [],
   "source": [
    "# 3. Problem"
   ]
  },
  {
   "cell_type": "code",
   "execution_count": 7,
   "id": "84bcde5d",
   "metadata": {},
   "outputs": [],
   "source": [
    "se1 = {'18',18}"
   ]
  },
  {
   "cell_type": "code",
   "execution_count": 9,
   "id": "7b7c960e",
   "metadata": {},
   "outputs": [
    {
     "name": "stdout",
     "output_type": "stream",
     "text": [
      "{'18', 18}\n"
     ]
    }
   ],
   "source": [
    "print(se1)"
   ]
  },
  {
   "cell_type": "code",
   "execution_count": 10,
   "id": "cbee5a05",
   "metadata": {},
   "outputs": [],
   "source": [
    "# 4. Problem"
   ]
  },
  {
   "cell_type": "code",
   "execution_count": 11,
   "id": "255ff971",
   "metadata": {},
   "outputs": [
    {
     "name": "stdout",
     "output_type": "stream",
     "text": [
      "{'20', 20}\n"
     ]
    }
   ],
   "source": [
    "s = set()\n",
    "s.add(20)\n",
    "s.add(20.0)\n",
    "s.add(\"20\")\n",
    "print (s)"
   ]
  },
  {
   "cell_type": "code",
   "execution_count": 12,
   "id": "2d88b0f8",
   "metadata": {},
   "outputs": [],
   "source": [
    "# 5. Problem"
   ]
  },
  {
   "cell_type": "code",
   "execution_count": 13,
   "id": "12bcfa56",
   "metadata": {},
   "outputs": [],
   "source": [
    "s = {}"
   ]
  },
  {
   "cell_type": "code",
   "execution_count": 14,
   "id": "8d01a9c6",
   "metadata": {},
   "outputs": [
    {
     "data": {
      "text/plain": [
       "dict"
      ]
     },
     "execution_count": 14,
     "metadata": {},
     "output_type": "execute_result"
    }
   ],
   "source": [
    "type(s)"
   ]
  },
  {
   "cell_type": "code",
   "execution_count": 15,
   "id": "a6dcf277",
   "metadata": {},
   "outputs": [],
   "source": [
    "# 6. Problem"
   ]
  },
  {
   "cell_type": "code",
   "execution_count": 1,
   "id": "8aeebc7d",
   "metadata": {},
   "outputs": [
    {
     "name": "stdout",
     "output_type": "stream",
     "text": [
      "Kindly enter your name: Prakash\n",
      "Kindly enter the languagePython\n",
      "Kindly enter your name: suresh\n",
      "Kindly enter the languageC\n",
      "Kindly enter your name: ramesh\n",
      "Kindly enter the languageC++\n",
      "Kindly enter your name: Vishnu\n",
      "Kindly enter the languageJava\n"
     ]
    }
   ],
   "source": [
    "emp_dictionary= {}\n",
    "a=input('Kindly enter your name: ')\n",
    "b=input('Kindly enter the language')\n",
    "emp_dictionary.update({a:b})\n",
    "c=input('Kindly enter your name: ')\n",
    "d=input('Kindly enter the language')\n",
    "emp_dictionary.update({c:d})\n",
    "e=input('Kindly enter your name: ')\n",
    "f=input('Kindly enter the language')\n",
    "emp_dictionary.update({e:f})\n",
    "g=input('Kindly enter your name: ')\n",
    "h=input('Kindly enter the language')\n",
    "emp_dictionary.update({g:h})"
   ]
  },
  {
   "cell_type": "code",
   "execution_count": 2,
   "id": "7c2db691",
   "metadata": {},
   "outputs": [
    {
     "name": "stdout",
     "output_type": "stream",
     "text": [
      "{'Prakash': 'Python', 'suresh': 'C', 'ramesh': 'C++', 'Vishnu': 'Java'}\n"
     ]
    }
   ],
   "source": [
    "emp_dictionary= {}\n",
    "a=input('Kindly enter your name: ')\n",
    "b=input('Kindly enter the language')\n",
    "emp_dictionary.update({a:b})\n",
    "c=input('Kindly enter your name: ')\n",
    "d=input('Kindly enter the language')\n",
    "emp_dictionary.update({c:d})\n",
    "e=input('Kindly enter your name: ')\n",
    "f=input('Kindly enter the language')\n",
    "emp_dictionary.update({e:f})\n",
    "g=input('Kindly enter your name: ')\n",
    "h=input('Kindly enter the language')\n",
    "emp_dictionary.update({g:h})"
   ]
  },
  {
   "cell_type": "code",
   "execution_count": 3,
   "id": "453c7ceb",
   "metadata": {},
   "outputs": [],
   "source": [
    "# 7 Problem"
   ]
  },
  {
   "cell_type": "code",
   "execution_count": 4,
   "id": "a969d879",
   "metadata": {},
   "outputs": [
    {
     "name": "stdout",
     "output_type": "stream",
     "text": [
      "Kindly enter your name: Prakash\n",
      "Kindly enter the languageC++\n",
      "Kindly enter your name: Vishnu\n",
      "Kindly enter the languagePython\n",
      "Kindly enter your name: Prakash\n",
      "Kindly enter the languageJava\n",
      "Kindly enter your name: nikhil\n",
      "Kindly enter the languageC\n",
      "{'Prakash': 'Java', 'Vishnu': 'Python', 'nikhil': 'C'}\n"
     ]
    }
   ],
   "source": [
    "emp_dictionary= {}\n",
    "a=input('Kindly enter your name: ')\n",
    "b=input('Kindly enter the language')\n",
    "emp_dictionary.update({a:b})\n",
    "c=input('Kindly enter your name: ')\n",
    "d=input('Kindly enter the language')\n",
    "emp_dictionary.update({c:d})\n",
    "e=input('Kindly enter your name: ')\n",
    "f=input('Kindly enter the language')\n",
    "emp_dictionary.update({e:f})\n",
    "g=input('Kindly enter your name: ')\n",
    "h=input('Kindly enter the language')\n",
    "emp_dictionary.update({g:h})\n",
    "print(emp_dictionary)\n"
   ]
  },
  {
   "cell_type": "code",
   "execution_count": 5,
   "id": "bbae08b7",
   "metadata": {},
   "outputs": [],
   "source": [
    "# 8 Problem"
   ]
  },
  {
   "cell_type": "code",
   "execution_count": 6,
   "id": "0613c453",
   "metadata": {},
   "outputs": [
    {
     "name": "stdout",
     "output_type": "stream",
     "text": [
      "Kindly enter your name: Prakash\n",
      "Kindly enter the languagePython\n",
      "Kindly enter your name: Vishnu\n",
      "Kindly enter the languagePython\n",
      "Kindly enter your name: raj\n",
      "Kindly enter the languageC\n",
      "Kindly enter your name: nikhil\n",
      "Kindly enter the languageC++\n",
      "{'Prakash': 'Python', 'Vishnu': 'Python', 'raj': 'C', 'nikhil': 'C++'}\n"
     ]
    }
   ],
   "source": [
    "emp_dictionary= {}\n",
    "a=input('Kindly enter your name: ')\n",
    "b=input('Kindly enter the language')\n",
    "emp_dictionary.update({a:b})\n",
    "c=input('Kindly enter your name: ')\n",
    "d=input('Kindly enter the language')\n",
    "emp_dictionary.update({c:d})\n",
    "e=input('Kindly enter your name: ')\n",
    "f=input('Kindly enter the language')\n",
    "emp_dictionary.update({e:f})\n",
    "g=input('Kindly enter your name: ')\n",
    "h=input('Kindly enter the language')\n",
    "emp_dictionary.update({g:h})\n",
    "print(emp_dictionary)"
   ]
  },
  {
   "cell_type": "code",
   "execution_count": 7,
   "id": "e48c177f",
   "metadata": {},
   "outputs": [],
   "source": [
    "# 9. Problem"
   ]
  },
  {
   "cell_type": "code",
   "execution_count": 9,
   "id": "18baf1b8",
   "metadata": {},
   "outputs": [
    {
     "ename": "TypeError",
     "evalue": "unhashable type: 'list'",
     "output_type": "error",
     "traceback": [
      "\u001b[1;31m---------------------------------------------------------------------------\u001b[0m",
      "\u001b[1;31mTypeError\u001b[0m                                 Traceback (most recent call last)",
      "\u001b[1;32m<ipython-input-9-c77dcc8d0f18>\u001b[0m in \u001b[0;36m<module>\u001b[1;34m\u001b[0m\n\u001b[1;32m----> 1\u001b[1;33m \u001b[0mS\u001b[0m \u001b[1;33m=\u001b[0m \u001b[1;33m{\u001b[0m\u001b[1;33m[\u001b[0m\u001b[1;36m1\u001b[0m\u001b[1;33m,\u001b[0m\u001b[1;36m2\u001b[0m\u001b[1;33m]\u001b[0m\u001b[1;33m}\u001b[0m\u001b[1;33m\u001b[0m\u001b[1;33m\u001b[0m\u001b[0m\n\u001b[0m",
      "\u001b[1;31mTypeError\u001b[0m: unhashable type: 'list'"
     ]
    }
   ],
   "source": [
    "S = {[1,2]}"
   ]
  },
  {
   "cell_type": "code",
   "execution_count": null,
   "id": "3a6790ca",
   "metadata": {},
   "outputs": [],
   "source": []
  }
 ],
 "metadata": {
  "kernelspec": {
   "display_name": "Python 3 (ipykernel)",
   "language": "python",
   "name": "python3"
  },
  "language_info": {
   "codemirror_mode": {
    "name": "ipython",
    "version": 3
   },
   "file_extension": ".py",
   "mimetype": "text/x-python",
   "name": "python",
   "nbconvert_exporter": "python",
   "pygments_lexer": "ipython3",
   "version": "3.9.7"
  }
 },
 "nbformat": 4,
 "nbformat_minor": 5
}
