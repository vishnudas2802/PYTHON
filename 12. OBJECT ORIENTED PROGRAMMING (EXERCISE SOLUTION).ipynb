{
 "cells": [
  {
   "cell_type": "code",
   "execution_count": 3,
   "id": "f2d0a51b",
   "metadata": {},
   "outputs": [
    {
     "name": "stdout",
     "output_type": "stream",
     "text": [
      "Vishnu works at Microsoft and draws a salary 100\n",
      "Shyam works at Microsoft and draws a salary 200\n"
     ]
    }
   ],
   "source": [
    "# 1. Problem\n",
    "\n",
    "class Employee:\n",
    "    company = 'Microsoft'\n",
    "    def details(self):\n",
    "        k = 'good'\n",
    "        print(f'{self.name} works at {self.company} and draws a salary {self.salary}')\n",
    "        \n",
    "employe1 = Employee()\n",
    "employe2 = Employee()\n",
    "\n",
    "employe1.name = 'Vishnu'\n",
    "employe1.salary = 100\n",
    "employe2.name = 'Shyam'\n",
    "employe2.salary = 200\n",
    "\n",
    "employe1.details()\n",
    "employe2.details()"
   ]
  },
  {
   "cell_type": "code",
   "execution_count": 7,
   "id": "f128fd43",
   "metadata": {},
   "outputs": [
    {
     "name": "stdout",
     "output_type": "stream",
     "text": [
      "the square of no. 2 is 4\n",
      "the cube of no. 2 is 8\n",
      "the squareroot of no. 2 is 1.4142135623730951\n"
     ]
    }
   ],
   "source": [
    "# 2. Problem\n",
    "class calculator:\n",
    "    def square(self):\n",
    "        print(f'the square of no. {self.num} is {self.num**2}')\n",
    "    def cube(self):\n",
    "        print(f'the cube of no. {self.num} is {self.num**3}')\n",
    "    def squareroot(self):\n",
    "        print(f'the squareroot of no. {self.num} is {self.num**0.5}')\n",
    "\n",
    "calc = calculator()\n",
    "calc.num = 2\n",
    "\n",
    "calc.square()\n",
    "calc.cube()\n",
    "calc.squareroot()"
   ]
  },
  {
   "cell_type": "code",
   "execution_count": 11,
   "id": "45ba203d",
   "metadata": {},
   "outputs": [
    {
     "name": "stdout",
     "output_type": "stream",
     "text": [
      "corona\n"
     ]
    }
   ],
   "source": [
    "# 3. Problem\n",
    "\n",
    "class disease:\n",
    "    a = 'omicron'\n",
    "    def prdis(self):\n",
    "        print(self.a)\n",
    "\n",
    "dis = disease()\n",
    "dis.a= 'corona'\n",
    "dis. prdis()"
   ]
  },
  {
   "cell_type": "code",
   "execution_count": 16,
   "id": "5e2cd3c3",
   "metadata": {},
   "outputs": [
    {
     "name": "stdout",
     "output_type": "stream",
     "text": [
      "Hello\n",
      "the square of no. 2 is 4\n",
      "the cube of no. 2 is 8\n",
      "the squareroot of no. 2 is 1.4142135623730951\n"
     ]
    }
   ],
   "source": [
    "# 4. Problem\n",
    "class calculator:\n",
    "    @staticmethod\n",
    "    def greet():\n",
    "        print('Hello')\n",
    "    def square(self):\n",
    "        print(f'the square of no. {self.num} is {self.num**2}')\n",
    "    def cube(self):\n",
    "        print(f'the cube of no. {self.num} is {self.num**3}')\n",
    "    def squareroot(self):\n",
    "        print(f'the squareroot of no. {self.num} is {self.num**0.5}')\n",
    "\n",
    "calc = calculator()\n",
    "calc.num = 2\n",
    "calc.greet()\n",
    "calc.square()\n",
    "calc.cube()\n",
    "calc.squareroot()"
   ]
  },
  {
   "cell_type": "code",
   "execution_count": 24,
   "id": "f4481e9f",
   "metadata": {},
   "outputs": [
    {
     "name": "stdout",
     "output_type": "stream",
     "text": [
      "Vishnu is travelling in tejas with seat no. 35, the price of ticket is 2000\n"
     ]
    }
   ],
   "source": [
    "class Railway:\n",
    "    def details(self):\n",
    "        print(f'{v.name} is travelling in {v.train} with seat no. {v.seat}, the price of ticket is {v.price}')\n",
    "   \n",
    "v = Railway()\n",
    "v.name = 'Vishnu'\n",
    "v.train= 'tejas'\n",
    "v.seat = 35\n",
    "v.price = 2000\n",
    "\n",
    "v.details()"
   ]
  },
  {
   "cell_type": "code",
   "execution_count": 26,
   "id": "090d8e19",
   "metadata": {},
   "outputs": [
    {
     "name": "stdout",
     "output_type": "stream",
     "text": [
      "corona\n"
     ]
    }
   ],
   "source": [
    "# 6. Problem\n",
    "class disease:\n",
    "    a = 'omicron'\n",
    "    def prdis(abc):\n",
    "        print(abc.a)\n",
    "\n",
    "dis = disease()\n",
    "dis.a= 'corona'\n",
    "dis. prdis()"
   ]
  },
  {
   "cell_type": "code",
   "execution_count": null,
   "id": "22fa8a35",
   "metadata": {},
   "outputs": [],
   "source": []
  }
 ],
 "metadata": {
  "kernelspec": {
   "display_name": "Python 3 (ipykernel)",
   "language": "python",
   "name": "python3"
  },
  "language_info": {
   "codemirror_mode": {
    "name": "ipython",
    "version": 3
   },
   "file_extension": ".py",
   "mimetype": "text/x-python",
   "name": "python",
   "nbconvert_exporter": "python",
   "pygments_lexer": "ipython3",
   "version": "3.9.7"
  }
 },
 "nbformat": 4,
 "nbformat_minor": 5
}
