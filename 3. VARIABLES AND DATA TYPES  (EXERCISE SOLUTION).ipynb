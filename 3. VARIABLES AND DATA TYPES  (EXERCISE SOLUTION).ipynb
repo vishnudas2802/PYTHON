{
 "cells": [
  {
   "cell_type": "code",
   "execution_count": 1,
   "id": "0c7cca27",
   "metadata": {},
   "outputs": [],
   "source": [
    "# 1. Add 2 no."
   ]
  },
  {
   "cell_type": "code",
   "execution_count": 2,
   "id": "382b6a74",
   "metadata": {},
   "outputs": [
    {
     "name": "stdout",
     "output_type": "stream",
     "text": [
      "The added sum of the number is:  19\n"
     ]
    }
   ],
   "source": [
    "a = 9\n",
    "b = 10\n",
    "f= a+b\n",
    "print('The added sum of the number is: ', f)"
   ]
  },
  {
   "cell_type": "code",
   "execution_count": 3,
   "id": "213a69ac",
   "metadata": {},
   "outputs": [],
   "source": [
    "# 2. Remainder"
   ]
  },
  {
   "cell_type": "code",
   "execution_count": 9,
   "id": "58497acf",
   "metadata": {},
   "outputs": [
    {
     "name": "stdout",
     "output_type": "stream",
     "text": [
      "0\n"
     ]
    }
   ],
   "source": [
    "a = 8\n",
    "b =2\n",
    "K = a%b\n",
    "print(k)"
   ]
  },
  {
   "cell_type": "code",
   "execution_count": 12,
   "id": "ca6d2ec5",
   "metadata": {},
   "outputs": [],
   "source": [
    "# 4. Problem"
   ]
  },
  {
   "cell_type": "code",
   "execution_count": 14,
   "id": "051fc57b",
   "metadata": {},
   "outputs": [],
   "source": [
    "a = 34\n",
    "b = 80"
   ]
  },
  {
   "cell_type": "code",
   "execution_count": 16,
   "id": "146c1141",
   "metadata": {},
   "outputs": [
    {
     "data": {
      "text/plain": [
       "False"
      ]
     },
     "execution_count": 16,
     "metadata": {},
     "output_type": "execute_result"
    }
   ],
   "source": [
    "a>b"
   ]
  },
  {
   "cell_type": "code",
   "execution_count": 17,
   "id": "c4eacb17",
   "metadata": {},
   "outputs": [],
   "source": [
    "# 5. Problem"
   ]
  },
  {
   "cell_type": "code",
   "execution_count": 18,
   "id": "eed3a001",
   "metadata": {},
   "outputs": [
    {
     "name": "stdout",
     "output_type": "stream",
     "text": [
      "Please enter the 1st no. : 8\n",
      "Please enter the 2st no. : 4\n",
      "6.0\n"
     ]
    }
   ],
   "source": [
    "a= input('Please enter the 1st no. : ')\n",
    "c = int(a)\n",
    "b = input('Please enter the 2st no. : ')\n",
    "d = int(b)\n",
    "avg = (c+d)/2\n",
    "print(avg)"
   ]
  },
  {
   "cell_type": "code",
   "execution_count": 19,
   "id": "44f3c142",
   "metadata": {},
   "outputs": [],
   "source": [
    "# 6. Problem"
   ]
  },
  {
   "cell_type": "code",
   "execution_count": 21,
   "id": "dade1396",
   "metadata": {},
   "outputs": [
    {
     "name": "stdout",
     "output_type": "stream",
     "text": [
      "Please enter the no to be squared : 5\n",
      "25\n"
     ]
    }
   ],
   "source": [
    "h= input('Please enter the no to be squared : ')\n",
    "i = int(h)\n",
    "jj= i*i\n",
    "print(jj)"
   ]
  },
  {
   "cell_type": "code",
   "execution_count": null,
   "id": "5b393456",
   "metadata": {},
   "outputs": [],
   "source": []
  }
 ],
 "metadata": {
  "kernelspec": {
   "display_name": "Python 3",
   "language": "python",
   "name": "python3"
  },
  "language_info": {
   "codemirror_mode": {
    "name": "ipython",
    "version": 3
   },
   "file_extension": ".py",
   "mimetype": "text/x-python",
   "name": "python",
   "nbconvert_exporter": "python",
   "pygments_lexer": "ipython3",
   "version": "3.8.8"
  }
 },
 "nbformat": 4,
 "nbformat_minor": 5
}
