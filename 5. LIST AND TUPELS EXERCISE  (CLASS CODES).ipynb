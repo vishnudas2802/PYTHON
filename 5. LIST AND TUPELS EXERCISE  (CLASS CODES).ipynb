{
 "cells": [
  {
   "cell_type": "markdown",
   "id": "e662ba0b",
   "metadata": {},
   "source": [
    "# LIST\n"
   ]
  },
  {
   "cell_type": "code",
   "execution_count": 45,
   "id": "3b8c16b8",
   "metadata": {},
   "outputs": [],
   "source": [
    "List_new = ['Vishnu', 2, 5.7, True, None]"
   ]
  },
  {
   "cell_type": "code",
   "execution_count": 3,
   "id": "86744490",
   "metadata": {},
   "outputs": [
    {
     "name": "stdout",
     "output_type": "stream",
     "text": [
      "['Vishnu', 2, 5.7, True, None]\n"
     ]
    }
   ],
   "source": [
    "print(List_new)"
   ]
  },
  {
   "cell_type": "code",
   "execution_count": 4,
   "id": "41d05e7d",
   "metadata": {},
   "outputs": [],
   "source": [
    "List_new[0] = 'Vipul'"
   ]
  },
  {
   "cell_type": "code",
   "execution_count": 5,
   "id": "5457628a",
   "metadata": {},
   "outputs": [
    {
     "name": "stdout",
     "output_type": "stream",
     "text": [
      "['Vipul', 2, 5.7, True, None]\n"
     ]
    }
   ],
   "source": [
    "print(List_new)"
   ]
  },
  {
   "cell_type": "code",
   "execution_count": 6,
   "id": "0b1eb842",
   "metadata": {},
   "outputs": [
    {
     "name": "stdout",
     "output_type": "stream",
     "text": [
      "None\n"
     ]
    }
   ],
   "source": [
    "print(List_new[4] )"
   ]
  },
  {
   "cell_type": "code",
   "execution_count": 7,
   "id": "9f5bfa38",
   "metadata": {},
   "outputs": [
    {
     "ename": "IndexError",
     "evalue": "list index out of range",
     "output_type": "error",
     "traceback": [
      "\u001b[1;31m---------------------------------------------------------------------------\u001b[0m",
      "\u001b[1;31mIndexError\u001b[0m                                Traceback (most recent call last)",
      "\u001b[1;32m<ipython-input-7-a75bd9a5de19>\u001b[0m in \u001b[0;36m<module>\u001b[1;34m\u001b[0m\n\u001b[1;32m----> 1\u001b[1;33m \u001b[0mprint\u001b[0m\u001b[1;33m(\u001b[0m\u001b[0mList_new\u001b[0m\u001b[1;33m[\u001b[0m\u001b[1;36m40\u001b[0m\u001b[1;33m]\u001b[0m \u001b[1;33m)\u001b[0m\u001b[1;33m\u001b[0m\u001b[1;33m\u001b[0m\u001b[0m\n\u001b[0m",
      "\u001b[1;31mIndexError\u001b[0m: list index out of range"
     ]
    }
   ],
   "source": [
    "print(List_new[40] )"
   ]
  },
  {
   "cell_type": "code",
   "execution_count": 8,
   "id": "925ad814",
   "metadata": {},
   "outputs": [
    {
     "name": "stdout",
     "output_type": "stream",
     "text": [
      "[2, 5.7, True]\n"
     ]
    }
   ],
   "source": [
    "print(List_new[1:4] )"
   ]
  },
  {
   "cell_type": "code",
   "execution_count": 9,
   "id": "0f45b2f6",
   "metadata": {},
   "outputs": [],
   "source": [
    "list1 = [4,6,33,8,9,1,1,5,7,4,3]"
   ]
  },
  {
   "cell_type": "code",
   "execution_count": 10,
   "id": "78236b34",
   "metadata": {},
   "outputs": [],
   "source": [
    "listneww= list1.sort()"
   ]
  },
  {
   "cell_type": "code",
   "execution_count": 11,
   "id": "90093a7b",
   "metadata": {},
   "outputs": [
    {
     "name": "stdout",
     "output_type": "stream",
     "text": [
      "None\n"
     ]
    }
   ],
   "source": [
    "print(listneww)"
   ]
  },
  {
   "cell_type": "code",
   "execution_count": 12,
   "id": "f19e8615",
   "metadata": {},
   "outputs": [],
   "source": [
    "list1.sort()"
   ]
  },
  {
   "cell_type": "code",
   "execution_count": 13,
   "id": "69d35e37",
   "metadata": {},
   "outputs": [
    {
     "name": "stdout",
     "output_type": "stream",
     "text": [
      "[1, 1, 3, 4, 4, 5, 6, 7, 8, 9, 33]\n"
     ]
    }
   ],
   "source": [
    "print(list1)"
   ]
  },
  {
   "cell_type": "code",
   "execution_count": 14,
   "id": "263cb4b3",
   "metadata": {},
   "outputs": [],
   "source": [
    "list1.reverse()"
   ]
  },
  {
   "cell_type": "code",
   "execution_count": 15,
   "id": "193ac01f",
   "metadata": {},
   "outputs": [
    {
     "name": "stdout",
     "output_type": "stream",
     "text": [
      "[33, 9, 8, 7, 6, 5, 4, 4, 3, 1, 1]\n"
     ]
    }
   ],
   "source": [
    "print(list1)"
   ]
  },
  {
   "cell_type": "code",
   "execution_count": 16,
   "id": "b8384f48",
   "metadata": {},
   "outputs": [],
   "source": [
    "list1.append(45)"
   ]
  },
  {
   "cell_type": "code",
   "execution_count": 17,
   "id": "99738e14",
   "metadata": {},
   "outputs": [
    {
     "name": "stdout",
     "output_type": "stream",
     "text": [
      "[33, 9, 8, 7, 6, 5, 4, 4, 3, 1, 1, 45]\n"
     ]
    }
   ],
   "source": [
    "print(list1)"
   ]
  },
  {
   "cell_type": "code",
   "execution_count": 18,
   "id": "4612b9e5",
   "metadata": {},
   "outputs": [],
   "source": [
    "list1.insert(1,55)"
   ]
  },
  {
   "cell_type": "code",
   "execution_count": 19,
   "id": "80b5aa64",
   "metadata": {},
   "outputs": [
    {
     "name": "stdout",
     "output_type": "stream",
     "text": [
      "[33, 55, 9, 8, 7, 6, 5, 4, 4, 3, 1, 1, 45]\n"
     ]
    }
   ],
   "source": [
    "print(list1)"
   ]
  },
  {
   "cell_type": "code",
   "execution_count": 21,
   "id": "036b3aaa",
   "metadata": {},
   "outputs": [],
   "source": [
    "list1.remove(1)"
   ]
  },
  {
   "cell_type": "code",
   "execution_count": 22,
   "id": "561da6ea",
   "metadata": {},
   "outputs": [
    {
     "name": "stdout",
     "output_type": "stream",
     "text": [
      "[33, 55, 9, 8, 7, 6, 5, 4, 4, 3, 1, 45]\n"
     ]
    }
   ],
   "source": [
    "print(list1)"
   ]
  },
  {
   "cell_type": "code",
   "execution_count": 23,
   "id": "067e4a82",
   "metadata": {},
   "outputs": [],
   "source": [
    "list1.remove(1)"
   ]
  },
  {
   "cell_type": "code",
   "execution_count": 24,
   "id": "b8161d27",
   "metadata": {},
   "outputs": [
    {
     "name": "stdout",
     "output_type": "stream",
     "text": [
      "[33, 55, 9, 8, 7, 6, 5, 4, 4, 3, 45]\n"
     ]
    }
   ],
   "source": [
    "print(list1)"
   ]
  },
  {
   "cell_type": "code",
   "execution_count": 26,
   "id": "357b7bab",
   "metadata": {},
   "outputs": [
    {
     "data": {
      "text/plain": [
       "8"
      ]
     },
     "execution_count": 26,
     "metadata": {},
     "output_type": "execute_result"
    }
   ],
   "source": [
    "list1.pop(3)"
   ]
  },
  {
   "cell_type": "code",
   "execution_count": 27,
   "id": "cf6a0216",
   "metadata": {},
   "outputs": [
    {
     "name": "stdout",
     "output_type": "stream",
     "text": [
      "[33, 55, 9, 7, 6, 5, 4, 4, 3, 45]\n"
     ]
    }
   ],
   "source": [
    "print(list1)"
   ]
  },
  {
   "cell_type": "markdown",
   "id": "5a9c8f68",
   "metadata": {},
   "source": [
    "# Tuples"
   ]
  },
  {
   "cell_type": "code",
   "execution_count": 28,
   "id": "617ead87",
   "metadata": {},
   "outputs": [],
   "source": [
    "a = (1,3,6,2,8,55)"
   ]
  },
  {
   "cell_type": "code",
   "execution_count": 29,
   "id": "bfa153a9",
   "metadata": {},
   "outputs": [
    {
     "name": "stdout",
     "output_type": "stream",
     "text": [
      "(1, 3, 6, 2, 8, 55)\n"
     ]
    }
   ],
   "source": [
    "print(a)"
   ]
  },
  {
   "cell_type": "code",
   "execution_count": 30,
   "id": "4751d7d4",
   "metadata": {},
   "outputs": [],
   "source": [
    "b = ()"
   ]
  },
  {
   "cell_type": "code",
   "execution_count": 31,
   "id": "aef96d0c",
   "metadata": {},
   "outputs": [
    {
     "name": "stdout",
     "output_type": "stream",
     "text": [
      "()\n"
     ]
    }
   ],
   "source": [
    "print(b)"
   ]
  },
  {
   "cell_type": "code",
   "execution_count": 32,
   "id": "b136f38c",
   "metadata": {},
   "outputs": [],
   "source": [
    "c = (1)"
   ]
  },
  {
   "cell_type": "code",
   "execution_count": 33,
   "id": "22a10963",
   "metadata": {},
   "outputs": [
    {
     "name": "stdout",
     "output_type": "stream",
     "text": [
      "1\n"
     ]
    }
   ],
   "source": [
    "print(c)"
   ]
  },
  {
   "cell_type": "code",
   "execution_count": 34,
   "id": "891dbce4",
   "metadata": {},
   "outputs": [],
   "source": [
    "d= (1,)"
   ]
  },
  {
   "cell_type": "code",
   "execution_count": 35,
   "id": "7fe2c8b5",
   "metadata": {},
   "outputs": [
    {
     "name": "stdout",
     "output_type": "stream",
     "text": [
      "(1,)\n"
     ]
    }
   ],
   "source": [
    "print(d)"
   ]
  },
  {
   "cell_type": "code",
   "execution_count": 36,
   "id": "e0c9122c",
   "metadata": {},
   "outputs": [],
   "source": [
    "a = (1,3,6,2,8,55)"
   ]
  },
  {
   "cell_type": "code",
   "execution_count": 39,
   "id": "ca8fba68",
   "metadata": {},
   "outputs": [
    {
     "ename": "TypeError",
     "evalue": "'tuple' object does not support item assignment",
     "output_type": "error",
     "traceback": [
      "\u001b[1;31m---------------------------------------------------------------------------\u001b[0m",
      "\u001b[1;31mTypeError\u001b[0m                                 Traceback (most recent call last)",
      "\u001b[1;32m<ipython-input-39-8274b6782611>\u001b[0m in \u001b[0;36m<module>\u001b[1;34m\u001b[0m\n\u001b[1;32m----> 1\u001b[1;33m \u001b[0ma\u001b[0m\u001b[1;33m[\u001b[0m\u001b[1;36m1\u001b[0m\u001b[1;33m]\u001b[0m \u001b[1;33m=\u001b[0m \u001b[1;36m5\u001b[0m\u001b[1;33m\u001b[0m\u001b[1;33m\u001b[0m\u001b[0m\n\u001b[0m",
      "\u001b[1;31mTypeError\u001b[0m: 'tuple' object does not support item assignment"
     ]
    }
   ],
   "source": [
    "a[1] = 5"
   ]
  },
  {
   "cell_type": "code",
   "execution_count": 40,
   "id": "21d86b8c",
   "metadata": {},
   "outputs": [
    {
     "name": "stdout",
     "output_type": "stream",
     "text": [
      "6\n"
     ]
    }
   ],
   "source": [
    "print(a[2])"
   ]
  },
  {
   "cell_type": "code",
   "execution_count": 41,
   "id": "03e1b297",
   "metadata": {},
   "outputs": [
    {
     "name": "stdout",
     "output_type": "stream",
     "text": [
      "(3, 6, 2, 8)\n"
     ]
    }
   ],
   "source": [
    "print(a[1:5])"
   ]
  },
  {
   "cell_type": "code",
   "execution_count": 42,
   "id": "7a4e193c",
   "metadata": {},
   "outputs": [],
   "source": [
    "a = (1,3,8,6,2,8,55,8)"
   ]
  },
  {
   "cell_type": "code",
   "execution_count": 43,
   "id": "e4527dfb",
   "metadata": {},
   "outputs": [
    {
     "data": {
      "text/plain": [
       "3"
      ]
     },
     "execution_count": 43,
     "metadata": {},
     "output_type": "execute_result"
    }
   ],
   "source": [
    "a.count(8)"
   ]
  },
  {
   "cell_type": "code",
   "execution_count": 44,
   "id": "d665afa2",
   "metadata": {},
   "outputs": [
    {
     "data": {
      "text/plain": [
       "3"
      ]
     },
     "execution_count": 44,
     "metadata": {},
     "output_type": "execute_result"
    }
   ],
   "source": [
    "a.index(6)"
   ]
  },
  {
   "cell_type": "code",
   "execution_count": null,
   "id": "df1ac7be",
   "metadata": {},
   "outputs": [],
   "source": []
  }
 ],
 "metadata": {
  "kernelspec": {
   "display_name": "Python 3 (ipykernel)",
   "language": "python",
   "name": "python3"
  },
  "language_info": {
   "codemirror_mode": {
    "name": "ipython",
    "version": 3
   },
   "file_extension": ".py",
   "mimetype": "text/x-python",
   "name": "python",
   "nbconvert_exporter": "python",
   "pygments_lexer": "ipython3",
   "version": "3.9.7"
  }
 },
 "nbformat": 4,
 "nbformat_minor": 5
}
