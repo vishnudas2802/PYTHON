{
 "cells": [
  {
   "cell_type": "code",
   "execution_count": 2,
   "id": "389d5512",
   "metadata": {},
   "outputs": [
    {
     "name": "stdout",
     "output_type": "stream",
     "text": [
      "66.25 72.75\n"
     ]
    }
   ],
   "source": [
    "marks1 =[44,77,98,46]\n",
    "percentage1 = ((marks1[0]+marks1[1]+marks1[2]+marks1[3])/400)*100\n",
    "\n",
    "marks2 =[48,79,98,66]\n",
    "percentage2 = ((marks2[0]+marks2[1]+marks2[2]+marks2[3])/400)*100\n",
    "print(percentage1, percentage2)"
   ]
  },
  {
   "cell_type": "code",
   "execution_count": 3,
   "id": "c8e43b3d",
   "metadata": {},
   "outputs": [
    {
     "name": "stdout",
     "output_type": "stream",
     "text": [
      "66.25 72.75\n"
     ]
    }
   ],
   "source": [
    "def percentage_st(marks):\n",
    "    p = ((marks[0]+marks[1]+marks[2]+marks[3])/400)*100\n",
    "    return p\n",
    "\n",
    "marks1 =[44,77,98,46]\n",
    "percentage1 = percentage_st(marks1)\n",
    "\n",
    "marks2 =[48,79,98,66]\n",
    "percentage2 = percentage_st(marks2)\n",
    "\n",
    "print(percentage1, percentage2)"
   ]
  },
  {
   "cell_type": "code",
   "execution_count": 8,
   "id": "9ef15516",
   "metadata": {},
   "outputs": [
    {
     "name": "stdout",
     "output_type": "stream",
     "text": [
      "Goodday Vishnu\n"
     ]
    }
   ],
   "source": [
    "def greet(name):\n",
    "    gr = 'Goodday '+ name\n",
    "    print(gr)\n",
    "    \n",
    "greet('Vishnu')\n"
   ]
  },
  {
   "cell_type": "code",
   "execution_count": 10,
   "id": "a92014c2",
   "metadata": {},
   "outputs": [
    {
     "name": "stdout",
     "output_type": "stream",
     "text": [
      "Goodday ProfVishnu\n"
     ]
    }
   ],
   "source": [
    "def greet(Initials ,name):\n",
    "    gr = 'Goodday '+Initials+ name\n",
    "    print(gr)\n",
    "    \n",
    "greet('Prof','Vishnu')\n"
   ]
  },
  {
   "cell_type": "code",
   "execution_count": 12,
   "id": "f6cf68dc",
   "metadata": {},
   "outputs": [
    {
     "name": "stdout",
     "output_type": "stream",
     "text": [
      "Goodday Stranger\n"
     ]
    }
   ],
   "source": [
    "def greet(name='Stranger'):\n",
    "    gr = 'Goodday '+ name\n",
    "    print(gr)\n",
    "    \n",
    "greet()"
   ]
  },
  {
   "cell_type": "code",
   "execution_count": 13,
   "id": "839dcdb5",
   "metadata": {},
   "outputs": [],
   "source": [
    "#4! = 1 x 2 x (4-1) x 4\n",
    "#n! = [1 x 2 x .......(n-1)] x n\n",
    "#n! = (n-1)! x n"
   ]
  },
  {
   "cell_type": "code",
   "execution_count": 16,
   "id": "fe721995",
   "metadata": {},
   "outputs": [
    {
     "data": {
      "text/plain": [
       "120"
      ]
     },
     "execution_count": 16,
     "metadata": {},
     "output_type": "execute_result"
    }
   ],
   "source": [
    "def factorial_recur(n):\n",
    "    if n==1 or n==0:\n",
    "        return 1\n",
    "    return n*factorial_recur(n-1)\n",
    "\n",
    "factorial_recur(5)"
   ]
  },
  {
   "cell_type": "code",
   "execution_count": null,
   "id": "c97854c3",
   "metadata": {},
   "outputs": [],
   "source": []
  }
 ],
 "metadata": {
  "kernelspec": {
   "display_name": "Python 3",
   "language": "python",
   "name": "python3"
  },
  "language_info": {
   "codemirror_mode": {
    "name": "ipython",
    "version": 3
   },
   "file_extension": ".py",
   "mimetype": "text/x-python",
   "name": "python",
   "nbconvert_exporter": "python",
   "pygments_lexer": "ipython3",
   "version": "3.8.8"
  }
 },
 "nbformat": 4,
 "nbformat_minor": 5
}
