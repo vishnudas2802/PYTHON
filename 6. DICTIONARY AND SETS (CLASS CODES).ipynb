{
 "cells": [
  {
   "cell_type": "markdown",
   "id": "c6f70721",
   "metadata": {},
   "source": [
    "# DICTIONARY"
   ]
  },
  {
   "cell_type": "code",
   "execution_count": 1,
   "id": "94f12439",
   "metadata": {},
   "outputs": [],
   "source": [
    "my_dictionary = {'Name':'Vishnudas', 1:2, 'lis':[3,4,6], 'bole':True}"
   ]
  },
  {
   "cell_type": "code",
   "execution_count": 2,
   "id": "89cb59d8",
   "metadata": {},
   "outputs": [
    {
     "name": "stdout",
     "output_type": "stream",
     "text": [
      "{'Name': 'Vishnudas', 1: 2, 'lis': [3, 4, 6], 'bole': True}\n"
     ]
    }
   ],
   "source": [
    "print(my_dictionary)"
   ]
  },
  {
   "cell_type": "code",
   "execution_count": 3,
   "id": "cfa16e16",
   "metadata": {},
   "outputs": [],
   "source": [
    "my_dictionary = {'Name':'Vishnudas', 1:2, 'lis':[3,4,6], 'bole':True, 'Name':'Vipul'}"
   ]
  },
  {
   "cell_type": "code",
   "execution_count": 4,
   "id": "6e743087",
   "metadata": {},
   "outputs": [
    {
     "name": "stdout",
     "output_type": "stream",
     "text": [
      "{'Name': 'Vipul', 1: 2, 'lis': [3, 4, 6], 'bole': True}\n"
     ]
    }
   ],
   "source": [
    "print(my_dictionary)"
   ]
  },
  {
   "cell_type": "code",
   "execution_count": 9,
   "id": "a42a57f5",
   "metadata": {},
   "outputs": [],
   "source": [
    "my_dictionary['Name'] = 'Shub'"
   ]
  },
  {
   "cell_type": "code",
   "execution_count": 10,
   "id": "e2fade80",
   "metadata": {},
   "outputs": [
    {
     "name": "stdout",
     "output_type": "stream",
     "text": [
      "{'Name': 'Shub', 1: 2, 'lis': [3, 4, 6], 'bole': True}\n"
     ]
    }
   ],
   "source": [
    "print(my_dictionary)"
   ]
  },
  {
   "cell_type": "code",
   "execution_count": 11,
   "id": "354545a8",
   "metadata": {},
   "outputs": [
    {
     "data": {
      "text/plain": [
       "dict_items([('Name', 'Shub'), (1, 2), ('lis', [3, 4, 6]), ('bole', True)])"
      ]
     },
     "execution_count": 11,
     "metadata": {},
     "output_type": "execute_result"
    }
   ],
   "source": [
    "my_dictionary.items()"
   ]
  },
  {
   "cell_type": "code",
   "execution_count": 12,
   "id": "6e9df6e8",
   "metadata": {},
   "outputs": [
    {
     "data": {
      "text/plain": [
       "dict_keys(['Name', 1, 'lis', 'bole'])"
      ]
     },
     "execution_count": 12,
     "metadata": {},
     "output_type": "execute_result"
    }
   ],
   "source": [
    "my_dictionary.keys()"
   ]
  },
  {
   "cell_type": "code",
   "execution_count": 13,
   "id": "1a8e09ff",
   "metadata": {},
   "outputs": [
    {
     "data": {
      "text/plain": [
       "dict_values(['Shub', 2, [3, 4, 6], True])"
      ]
     },
     "execution_count": 13,
     "metadata": {},
     "output_type": "execute_result"
    }
   ],
   "source": [
    "my_dictionary.values()"
   ]
  },
  {
   "cell_type": "code",
   "execution_count": 15,
   "id": "dda69c90",
   "metadata": {},
   "outputs": [],
   "source": [
    "my_dictionary.update({'book':'Python'})"
   ]
  },
  {
   "cell_type": "code",
   "execution_count": 16,
   "id": "65346ed7",
   "metadata": {},
   "outputs": [
    {
     "name": "stdout",
     "output_type": "stream",
     "text": [
      "{'Name': 'Shub', 1: 2, 'lis': [3, 4, 6], 'bole': True, 'book': 'Python'}\n"
     ]
    }
   ],
   "source": [
    "print(my_dictionary)"
   ]
  },
  {
   "cell_type": "code",
   "execution_count": 20,
   "id": "083fca20",
   "metadata": {},
   "outputs": [
    {
     "name": "stdout",
     "output_type": "stream",
     "text": [
      "None\n"
     ]
    }
   ],
   "source": [
    "print(my_dictionary.get('book1'))"
   ]
  },
  {
   "cell_type": "code",
   "execution_count": 21,
   "id": "5643890d",
   "metadata": {},
   "outputs": [
    {
     "ename": "KeyError",
     "evalue": "'book1'",
     "output_type": "error",
     "traceback": [
      "\u001b[1;31m---------------------------------------------------------------------------\u001b[0m",
      "\u001b[1;31mKeyError\u001b[0m                                  Traceback (most recent call last)",
      "\u001b[1;32m<ipython-input-21-bcd1e77c4b00>\u001b[0m in \u001b[0;36m<module>\u001b[1;34m\u001b[0m\n\u001b[1;32m----> 1\u001b[1;33m \u001b[0mprint\u001b[0m\u001b[1;33m(\u001b[0m\u001b[0mmy_dictionary\u001b[0m\u001b[1;33m[\u001b[0m\u001b[1;34m'book1'\u001b[0m\u001b[1;33m]\u001b[0m\u001b[1;33m)\u001b[0m\u001b[1;33m\u001b[0m\u001b[1;33m\u001b[0m\u001b[0m\n\u001b[0m",
      "\u001b[1;31mKeyError\u001b[0m: 'book1'"
     ]
    }
   ],
   "source": [
    "print(my_dictionary['book1'])"
   ]
  },
  {
   "cell_type": "markdown",
   "id": "c01b34c1",
   "metadata": {},
   "source": [
    "# Sets"
   ]
  },
  {
   "cell_type": "code",
   "execution_count": 22,
   "id": "d8e91eab",
   "metadata": {},
   "outputs": [],
   "source": [
    "set1 = {1,4,6,7,8,2,3,1,5,1,2}"
   ]
  },
  {
   "cell_type": "code",
   "execution_count": 23,
   "id": "a635e22f",
   "metadata": {},
   "outputs": [
    {
     "name": "stdout",
     "output_type": "stream",
     "text": [
      "{1, 2, 3, 4, 5, 6, 7, 8}\n"
     ]
    }
   ],
   "source": [
    "print(set1)"
   ]
  },
  {
   "cell_type": "code",
   "execution_count": 24,
   "id": "bc9bcd47",
   "metadata": {},
   "outputs": [
    {
     "data": {
      "text/plain": [
       "set"
      ]
     },
     "execution_count": 24,
     "metadata": {},
     "output_type": "execute_result"
    }
   ],
   "source": [
    "type(set1)"
   ]
  },
  {
   "cell_type": "code",
   "execution_count": 27,
   "id": "c2933c23",
   "metadata": {},
   "outputs": [],
   "source": [
    "set2 = {}"
   ]
  },
  {
   "cell_type": "code",
   "execution_count": 28,
   "id": "ecd8444f",
   "metadata": {},
   "outputs": [
    {
     "data": {
      "text/plain": [
       "dict"
      ]
     },
     "execution_count": 28,
     "metadata": {},
     "output_type": "execute_result"
    }
   ],
   "source": [
    "type(set2)"
   ]
  },
  {
   "cell_type": "code",
   "execution_count": 29,
   "id": "28845a72",
   "metadata": {},
   "outputs": [],
   "source": [
    "set3 = set()"
   ]
  },
  {
   "cell_type": "code",
   "execution_count": 30,
   "id": "41a80d17",
   "metadata": {},
   "outputs": [
    {
     "data": {
      "text/plain": [
       "set"
      ]
     },
     "execution_count": 30,
     "metadata": {},
     "output_type": "execute_result"
    }
   ],
   "source": [
    "type(set3)"
   ]
  },
  {
   "cell_type": "code",
   "execution_count": 31,
   "id": "73419c29",
   "metadata": {},
   "outputs": [
    {
     "name": "stdout",
     "output_type": "stream",
     "text": [
      "set()\n"
     ]
    }
   ],
   "source": [
    "print(set3)"
   ]
  },
  {
   "cell_type": "code",
   "execution_count": 32,
   "id": "32bcca7a",
   "metadata": {},
   "outputs": [],
   "source": [
    "set1 = {1,4,6,7,8,2,3,1,5,1,2}"
   ]
  },
  {
   "cell_type": "code",
   "execution_count": 33,
   "id": "8d590b3d",
   "metadata": {},
   "outputs": [],
   "source": [
    "set1.add(74)"
   ]
  },
  {
   "cell_type": "code",
   "execution_count": 34,
   "id": "a9e58d1f",
   "metadata": {},
   "outputs": [
    {
     "name": "stdout",
     "output_type": "stream",
     "text": [
      "{1, 2, 3, 4, 5, 6, 7, 8, 74}\n"
     ]
    }
   ],
   "source": [
    "print(set1)"
   ]
  },
  {
   "cell_type": "code",
   "execution_count": 35,
   "id": "b9ab840b",
   "metadata": {},
   "outputs": [
    {
     "ename": "TypeError",
     "evalue": "'set' object is not subscriptable",
     "output_type": "error",
     "traceback": [
      "\u001b[1;31m---------------------------------------------------------------------------\u001b[0m",
      "\u001b[1;31mTypeError\u001b[0m                                 Traceback (most recent call last)",
      "\u001b[1;32m<ipython-input-35-d27c0eee2e56>\u001b[0m in \u001b[0;36m<module>\u001b[1;34m\u001b[0m\n\u001b[1;32m----> 1\u001b[1;33m \u001b[0mset1\u001b[0m\u001b[1;33m[\u001b[0m\u001b[1;36m1\u001b[0m\u001b[1;33m]\u001b[0m\u001b[1;33m\u001b[0m\u001b[1;33m\u001b[0m\u001b[0m\n\u001b[0m",
      "\u001b[1;31mTypeError\u001b[0m: 'set' object is not subscriptable"
     ]
    }
   ],
   "source": [
    "set1[1]"
   ]
  },
  {
   "cell_type": "code",
   "execution_count": 36,
   "id": "680b3e67",
   "metadata": {},
   "outputs": [
    {
     "ename": "TypeError",
     "evalue": "'set' object does not support item assignment",
     "output_type": "error",
     "traceback": [
      "\u001b[1;31m---------------------------------------------------------------------------\u001b[0m",
      "\u001b[1;31mTypeError\u001b[0m                                 Traceback (most recent call last)",
      "\u001b[1;32m<ipython-input-36-717e8043a654>\u001b[0m in \u001b[0;36m<module>\u001b[1;34m\u001b[0m\n\u001b[1;32m----> 1\u001b[1;33m \u001b[0mset1\u001b[0m\u001b[1;33m[\u001b[0m\u001b[1;36m1\u001b[0m\u001b[1;33m]\u001b[0m \u001b[1;33m=\u001b[0m \u001b[1;36m44\u001b[0m\u001b[1;33m\u001b[0m\u001b[1;33m\u001b[0m\u001b[0m\n\u001b[0m",
      "\u001b[1;31mTypeError\u001b[0m: 'set' object does not support item assignment"
     ]
    }
   ],
   "source": [
    "set1[1] = 44"
   ]
  },
  {
   "cell_type": "code",
   "execution_count": 37,
   "id": "4f0c8b7b",
   "metadata": {},
   "outputs": [
    {
     "data": {
      "text/plain": [
       "9"
      ]
     },
     "execution_count": 37,
     "metadata": {},
     "output_type": "execute_result"
    }
   ],
   "source": [
    "len(set1)"
   ]
  },
  {
   "cell_type": "code",
   "execution_count": 38,
   "id": "289342a0",
   "metadata": {},
   "outputs": [],
   "source": [
    "set1.remove(3)"
   ]
  },
  {
   "cell_type": "code",
   "execution_count": 39,
   "id": "e7dc4c8f",
   "metadata": {},
   "outputs": [
    {
     "name": "stdout",
     "output_type": "stream",
     "text": [
      "{1, 2, 4, 5, 6, 7, 8, 74}\n"
     ]
    }
   ],
   "source": [
    "print(set1)"
   ]
  },
  {
   "cell_type": "code",
   "execution_count": 40,
   "id": "195c1070",
   "metadata": {},
   "outputs": [],
   "source": [
    "set1.clear()"
   ]
  },
  {
   "cell_type": "code",
   "execution_count": 41,
   "id": "0ecc6e1f",
   "metadata": {},
   "outputs": [
    {
     "name": "stdout",
     "output_type": "stream",
     "text": [
      "set()\n"
     ]
    }
   ],
   "source": [
    "print(set1)"
   ]
  },
  {
   "cell_type": "code",
   "execution_count": 47,
   "id": "2177f877",
   "metadata": {},
   "outputs": [],
   "source": [
    "set33= {1, 2, 4, 5, 6, 7, 8, 74}"
   ]
  },
  {
   "cell_type": "code",
   "execution_count": 51,
   "id": "2d72b0bd",
   "metadata": {},
   "outputs": [
    {
     "data": {
      "text/plain": [
       "2"
      ]
     },
     "execution_count": 51,
     "metadata": {},
     "output_type": "execute_result"
    }
   ],
   "source": [
    "set33.pop()"
   ]
  },
  {
   "cell_type": "code",
   "execution_count": 52,
   "id": "e405d441",
   "metadata": {},
   "outputs": [
    {
     "name": "stdout",
     "output_type": "stream",
     "text": [
      "{4, 5, 6, 7, 8, 74}\n"
     ]
    }
   ],
   "source": [
    "print(set33)"
   ]
  },
  {
   "cell_type": "code",
   "execution_count": 59,
   "id": "100410c1",
   "metadata": {},
   "outputs": [],
   "source": [
    "un1= {2,3,4,5}\n",
    "un2= {4,5,6,7,8}"
   ]
  },
  {
   "cell_type": "code",
   "execution_count": 62,
   "id": "995debf8",
   "metadata": {},
   "outputs": [
    {
     "data": {
      "text/plain": [
       "{2, 3, 4, 5, 6, 7, 8}"
      ]
     },
     "execution_count": 62,
     "metadata": {},
     "output_type": "execute_result"
    }
   ],
   "source": [
    "un1.union({4,5,6,7,8})"
   ]
  },
  {
   "cell_type": "code",
   "execution_count": 61,
   "id": "5b331ea7",
   "metadata": {},
   "outputs": [
    {
     "data": {
      "text/plain": [
       "{4, 5}"
      ]
     },
     "execution_count": 61,
     "metadata": {},
     "output_type": "execute_result"
    }
   ],
   "source": [
    "un1.intersection(un2)"
   ]
  },
  {
   "cell_type": "code",
   "execution_count": null,
   "id": "c3d1cc93",
   "metadata": {},
   "outputs": [],
   "source": []
  }
 ],
 "metadata": {
  "kernelspec": {
   "display_name": "Python 3",
   "language": "python",
   "name": "python3"
  },
  "language_info": {
   "codemirror_mode": {
    "name": "ipython",
    "version": 3
   },
   "file_extension": ".py",
   "mimetype": "text/x-python",
   "name": "python",
   "nbconvert_exporter": "python",
   "pygments_lexer": "ipython3",
   "version": "3.8.8"
  }
 },
 "nbformat": 4,
 "nbformat_minor": 5
}
