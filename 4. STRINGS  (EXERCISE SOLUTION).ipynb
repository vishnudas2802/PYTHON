{
 "cells": [
  {
   "cell_type": "code",
   "execution_count": 2,
   "id": "81d7b4f3",
   "metadata": {},
   "outputs": [
    {
     "name": "stdout",
     "output_type": "stream",
     "text": [
      "Kidly Enter ur Name: Vishnu\n",
      "Vishnu GoodAfternoon\n"
     ]
    }
   ],
   "source": [
    "# 1. Problem\n",
    "a = input('Kidly Enter ur Name: ')\n",
    "b = ' GoodAfternoon'\n",
    "c= a+b\n",
    "print(c)"
   ]
  },
  {
   "cell_type": "code",
   "execution_count": 6,
   "id": "b6bd2223",
   "metadata": {},
   "outputs": [
    {
     "name": "stdout",
     "output_type": "stream",
     "text": [
      "Kidly Enter ur Name: Vishnu\n",
      "Vishnu GoodAfternoon\n"
     ]
    }
   ],
   "source": [
    "a = input('Kidly Enter ur Name: ')\n",
    "\n",
    "print(f'{a} GoodAfternoon')"
   ]
  },
  {
   "cell_type": "code",
   "execution_count": 1,
   "id": "fd779c6e",
   "metadata": {},
   "outputs": [
    {
     "name": "stdout",
     "output_type": "stream",
     "text": [
      "Enter the name of the candidate: Vishnu\n",
      "Enter todays date: 28 July 2021\n",
      "\n",
      "Dear Vishnu\n",
      " \tYou are selected \n",
      "28 July 2021\n"
     ]
    }
   ],
   "source": [
    "# 2. Problem\n",
    "name = input('Enter the name of the candidate: ')\n",
    "date = input('Enter todays date: ')\n",
    "Letter = '\\nDear <|NAME|>\\n \\tYou are selected \\n<|DATE|>'\n",
    "Letter1=Letter.replace('<|NAME|>',name)\n",
    "Letter2=Letter1.replace('<|DATE|>',date)\n",
    "\n",
    "print(Letter2)"
   ]
  },
  {
   "cell_type": "code",
   "execution_count": 13,
   "id": "5d5ee104",
   "metadata": {},
   "outputs": [],
   "source": [
    "# 3. Problem\n",
    "r = 'Hello  world  , I am Vishnu'"
   ]
  },
  {
   "cell_type": "code",
   "execution_count": 11,
   "id": "fa3f13a6",
   "metadata": {},
   "outputs": [
    {
     "data": {
      "text/plain": [
       "5"
      ]
     },
     "execution_count": 11,
     "metadata": {},
     "output_type": "execute_result"
    }
   ],
   "source": [
    "r.find('  ')"
   ]
  },
  {
   "cell_type": "code",
   "execution_count": 14,
   "id": "fa3444b8",
   "metadata": {},
   "outputs": [
    {
     "name": "stdout",
     "output_type": "stream",
     "text": [
      "Hello world , I am Vishnu\n"
     ]
    }
   ],
   "source": [
    "# 4. Problem\n",
    "t = r.replace('  ',' ')\n",
    "print(t)"
   ]
  },
  {
   "cell_type": "code",
   "execution_count": 15,
   "id": "4dd5bb71",
   "metadata": {},
   "outputs": [],
   "source": [
    "# 5 Problem"
   ]
  },
  {
   "cell_type": "code",
   "execution_count": 25,
   "id": "d09a6e41",
   "metadata": {},
   "outputs": [
    {
     "name": "stdout",
     "output_type": "stream",
     "text": [
      "Vishnu Sir,\n",
      " this Python course is nice.\n",
      "Thanks!\n"
     ]
    }
   ],
   "source": [
    "Letter = 'Vishnu Sir,\\n this Python course is nice.\\nThanks!'\n",
    "print(Letter)"
   ]
  },
  {
   "cell_type": "code",
   "execution_count": null,
   "id": "82cfe1bc",
   "metadata": {},
   "outputs": [],
   "source": []
  }
 ],
 "metadata": {
  "kernelspec": {
   "display_name": "Python 3",
   "language": "python",
   "name": "python3"
  },
  "language_info": {
   "codemirror_mode": {
    "name": "ipython",
    "version": 3
   },
   "file_extension": ".py",
   "mimetype": "text/x-python",
   "name": "python",
   "nbconvert_exporter": "python",
   "pygments_lexer": "ipython3",
   "version": "3.8.8"
  }
 },
 "nbformat": 4,
 "nbformat_minor": 5
}
