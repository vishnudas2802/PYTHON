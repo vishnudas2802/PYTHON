{
 "cells": [
  {
   "cell_type": "code",
   "execution_count": 1,
   "id": "001aa39b",
   "metadata": {},
   "outputs": [],
   "source": [
    "# 1. Problem"
   ]
  },
  {
   "cell_type": "code",
   "execution_count": 2,
   "id": "be4533a8",
   "metadata": {},
   "outputs": [
    {
     "name": "stdout",
     "output_type": "stream",
     "text": [
      "Kindly enter the name of the fruit 1: apple\n",
      "Kindly enter the name of the fruit 2: mango\n",
      "Kindly enter the name of the fruit 3: gauva\n",
      "Kindly enter the name of the fruit 4: papaya\n",
      "Kindly enter the name of the fruit 5: chicko\n",
      "Kindly enter the name of the fruit 6: kiwi\n",
      "Kindly enter the name of the fruit 7: strawberry\n",
      "['apple', 'mango', 'gauva', 'papaya', 'chicko', 'kiwi', 'strawberry']\n"
     ]
    }
   ],
   "source": [
    "a = input('Kindly enter the name of the fruit 1: ')\n",
    "b = input('Kindly enter the name of the fruit 2: ')\n",
    "c = input('Kindly enter the name of the fruit 3: ')\n",
    "d = input('Kindly enter the name of the fruit 4: ')\n",
    "e = input('Kindly enter the name of the fruit 5: ')\n",
    "f = input('Kindly enter the name of the fruit 6: ')\n",
    "g = input('Kindly enter the name of the fruit 7: ')\n",
    "fruit = [a,b,c,d,e,f,g]\n",
    "print(fruit)"
   ]
  },
  {
   "cell_type": "code",
   "execution_count": 3,
   "id": "d87d94b8",
   "metadata": {},
   "outputs": [],
   "source": [
    "# 2. Problem"
   ]
  },
  {
   "cell_type": "code",
   "execution_count": 4,
   "id": "acfa9184",
   "metadata": {},
   "outputs": [
    {
     "name": "stdout",
     "output_type": "stream",
     "text": [
      "Kindly enter the marks of the student no. 1: 66\n",
      "Kindly enter the marks of the student no. 2: 55\n",
      "Kindly enter the marks of the student no. 3: 8\n",
      "Kindly enter the marks of the student no. 4: 3\n",
      "Kindly enter the marks of the student no. 5: 99\n",
      "Kindly enter the marks of the student no. 6: 2\n",
      "[2, 3, 8, 55, 66, 99]\n"
     ]
    }
   ],
   "source": [
    "a = int(input('Kindly enter the marks of the student no. 1: '))\n",
    "b = int(input('Kindly enter the marks of the student no. 2: '))\n",
    "c = int(input('Kindly enter the marks of the student no. 3: '))\n",
    "d = int(input('Kindly enter the marks of the student no. 4: '))\n",
    "e = int(input('Kindly enter the marks of the student no. 5: '))\n",
    "f = int(input('Kindly enter the marks of the student no. 6: '))\n",
    "\n",
    "marks = [a,b,c,d,e,f]\n",
    "marks.sort()\n",
    "print(marks)"
   ]
  },
  {
   "cell_type": "code",
   "execution_count": 5,
   "id": "d3f29117",
   "metadata": {},
   "outputs": [],
   "source": [
    "# 3. Problem"
   ]
  },
  {
   "cell_type": "code",
   "execution_count": 6,
   "id": "4ab86047",
   "metadata": {},
   "outputs": [],
   "source": [
    "Tup = (4, 6, 7, 99)"
   ]
  },
  {
   "cell_type": "code",
   "execution_count": 7,
   "id": "763e07cf",
   "metadata": {},
   "outputs": [
    {
     "ename": "TypeError",
     "evalue": "'tuple' object does not support item assignment",
     "output_type": "error",
     "traceback": [
      "\u001b[1;31m---------------------------------------------------------------------------\u001b[0m",
      "\u001b[1;31mTypeError\u001b[0m                                 Traceback (most recent call last)",
      "\u001b[1;32m<ipython-input-7-8b153f19ba9d>\u001b[0m in \u001b[0;36m<module>\u001b[1;34m\u001b[0m\n\u001b[1;32m----> 1\u001b[1;33m \u001b[0mTup\u001b[0m\u001b[1;33m[\u001b[0m\u001b[1;36m1\u001b[0m\u001b[1;33m]\u001b[0m\u001b[1;33m=\u001b[0m \u001b[1;36m8\u001b[0m\u001b[1;33m\u001b[0m\u001b[1;33m\u001b[0m\u001b[0m\n\u001b[0m",
      "\u001b[1;31mTypeError\u001b[0m: 'tuple' object does not support item assignment"
     ]
    }
   ],
   "source": [
    "Tup[1]= 8"
   ]
  },
  {
   "cell_type": "code",
   "execution_count": 8,
   "id": "c34100d3",
   "metadata": {},
   "outputs": [],
   "source": [
    "# 4. Problem"
   ]
  },
  {
   "cell_type": "code",
   "execution_count": 9,
   "id": "38a08226",
   "metadata": {},
   "outputs": [],
   "source": [
    "List3 = [4, 6, 7, 99]"
   ]
  },
  {
   "cell_type": "code",
   "execution_count": 10,
   "id": "71558662",
   "metadata": {},
   "outputs": [
    {
     "name": "stdout",
     "output_type": "stream",
     "text": [
      "116\n"
     ]
    }
   ],
   "source": [
    "sum_of = List3[0] + List3[1] + List3[2] + List3[3]\n",
    "print(sum_of)"
   ]
  },
  {
   "cell_type": "code",
   "execution_count": 11,
   "id": "044db4fd",
   "metadata": {},
   "outputs": [
    {
     "data": {
      "text/plain": [
       "116"
      ]
     },
     "execution_count": 11,
     "metadata": {},
     "output_type": "execute_result"
    }
   ],
   "source": [
    "sum(List3)"
   ]
  },
  {
   "cell_type": "code",
   "execution_count": 12,
   "id": "cc22caa5",
   "metadata": {},
   "outputs": [],
   "source": [
    "# 5. Problem"
   ]
  },
  {
   "cell_type": "code",
   "execution_count": 13,
   "id": "bb1692c9",
   "metadata": {},
   "outputs": [],
   "source": [
    "a = (7,0,8,0,0,0,9)"
   ]
  },
  {
   "cell_type": "code",
   "execution_count": 14,
   "id": "e5b916fd",
   "metadata": {},
   "outputs": [
    {
     "data": {
      "text/plain": [
       "4"
      ]
     },
     "execution_count": 14,
     "metadata": {},
     "output_type": "execute_result"
    }
   ],
   "source": [
    "a.count(0)"
   ]
  },
  {
   "cell_type": "code",
   "execution_count": null,
   "id": "9a7bff30",
   "metadata": {},
   "outputs": [],
   "source": []
  }
 ],
 "metadata": {
  "kernelspec": {
   "display_name": "Python 3",
   "language": "python",
   "name": "python3"
  },
  "language_info": {
   "codemirror_mode": {
    "name": "ipython",
    "version": 3
   },
   "file_extension": ".py",
   "mimetype": "text/x-python",
   "name": "python",
   "nbconvert_exporter": "python",
   "pygments_lexer": "ipython3",
   "version": "3.8.8"
  }
 },
 "nbformat": 4,
 "nbformat_minor": 5
}
