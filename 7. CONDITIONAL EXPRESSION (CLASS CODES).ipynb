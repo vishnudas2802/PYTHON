{
 "cells": [
  {
   "cell_type": "code",
   "execution_count": 1,
   "id": "8138d645",
   "metadata": {},
   "outputs": [
    {
     "name": "stdout",
     "output_type": "stream",
     "text": [
      "The value a is greater than 5\n"
     ]
    }
   ],
   "source": [
    "a = 5.5\n",
    "\n",
    "if a>8:\n",
    "    print('The value a is greater than 8')\n",
    "elif a>7:\n",
    "    print('The value a is greater than 7')\n",
    "elif a>6:\n",
    "    print('The value a is greater than 6')\n",
    "elif a>5:\n",
    "    print('The value a is greater than 5')\n",
    "elif a>4:\n",
    "    print('The value a is greater than 4')\n",
    "else:\n",
    "    print('The value a is less than 8')"
   ]
  },
  {
   "cell_type": "code",
   "execution_count": 2,
   "id": "be4acf83",
   "metadata": {},
   "outputs": [
    {
     "name": "stdout",
     "output_type": "stream",
     "text": [
      "Please enter your age19\n",
      "yes\n"
     ]
    }
   ],
   "source": [
    "age = int(input(\"Please enter your age\"))\n",
    "\n",
    "if age>=18:\n",
    "    print('yes')"
   ]
  },
  {
   "cell_type": "code",
   "execution_count": 3,
   "id": "41725f24",
   "metadata": {},
   "outputs": [
    {
     "name": "stdout",
     "output_type": "stream",
     "text": [
      "The value a not equal 8\n"
     ]
    }
   ],
   "source": [
    "a = 9\n",
    "\n",
    "if a==8:\n",
    "    print('The value a is equal to 8')\n",
    "else:\n",
    "    print('The value a not equal 8')"
   ]
  },
  {
   "cell_type": "code",
   "execution_count": 4,
   "id": "1d36864e",
   "metadata": {},
   "outputs": [
    {
     "name": "stdout",
     "output_type": "stream",
     "text": [
      "The value a is greater or equal to 8\n"
     ]
    }
   ],
   "source": [
    "a = 9\n",
    "\n",
    "if a>=8:\n",
    "    print('The value a is greater or equal to 8')\n",
    "else:\n",
    "    print('The value a not equal 8')"
   ]
  },
  {
   "cell_type": "code",
   "execution_count": 6,
   "id": "1b24e618",
   "metadata": {},
   "outputs": [
    {
     "name": "stdout",
     "output_type": "stream",
     "text": [
      "Please type ok if ur health is good or type not ok: ok\n",
      "Please type yes if its raining and no if its not raining: yes\n",
      "\n",
      "No jogging today\n"
     ]
    }
   ],
   "source": [
    "health = input('Please type ok if ur health is good or type not ok: ')\n",
    "env = input('Please type yes if its raining and no if its not raining: ')\n",
    "\n",
    "if health=='ok' and env=='no':\n",
    "    print('\\nYou can go to jog')\n",
    "else:\n",
    "    print('\\nNo jogging today')\n"
   ]
  },
  {
   "cell_type": "code",
   "execution_count": null,
   "id": "f0fad5cf",
   "metadata": {},
   "outputs": [],
   "source": []
  }
 ],
 "metadata": {
  "kernelspec": {
   "display_name": "Python 3 (ipykernel)",
   "language": "python",
   "name": "python3"
  },
  "language_info": {
   "codemirror_mode": {
    "name": "ipython",
    "version": 3
   },
   "file_extension": ".py",
   "mimetype": "text/x-python",
   "name": "python",
   "nbconvert_exporter": "python",
   "pygments_lexer": "ipython3",
   "version": "3.9.7"
  }
 },
 "nbformat": 4,
 "nbformat_minor": 5
}
