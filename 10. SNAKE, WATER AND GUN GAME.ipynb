{
 "cells": [
  {
   "cell_type": "code",
   "execution_count": 11,
   "id": "18c2624c",
   "metadata": {},
   "outputs": [
    {
     "name": "stdout",
     "output_type": "stream",
     "text": [
      "Player 1: Kindly enter for Snake(s) or Water(w) or Gun(g):  g\n",
      "The input of the computer is: s\n",
      "You Won\n"
     ]
    }
   ],
   "source": [
    "import random\n",
    "\n",
    "def game(comp,you):\n",
    "    if comp==you:\n",
    "        return None\n",
    "    if comp =='s':\n",
    "        if you=='w':\n",
    "            return False\n",
    "        if you=='g':\n",
    "            return True\n",
    "    elif comp =='g':\n",
    "        if you=='w':\n",
    "            return True\n",
    "        if you=='s':\n",
    "            return False\n",
    "    elif comp =='w':\n",
    "        if you=='g':\n",
    "            return False\n",
    "        if you=='s':\n",
    "            return True\n",
    "        \n",
    "\n",
    "randno=random.randint(1,3)\n",
    "\n",
    "if randno ==1:\n",
    "    comp = 's'\n",
    "elif randno ==2:\n",
    "    comp = 'w'\n",
    "elif randno ==3:\n",
    "    comp = 'g'\n",
    "\n",
    "you = input(\"Player 1: Kindly enter for Snake(s) or Water(w) or Gun(g):  \")\n",
    "print(f'The input of the computer is: {comp}')\n",
    "a = game(comp,you)\n",
    "\n",
    "if a==None:\n",
    "    print('Its a tie')\n",
    "elif a == True:\n",
    "    print('You Won')\n",
    "elif a== False:\n",
    "    print('You lost')\n"
   ]
  },
  {
   "cell_type": "code",
   "execution_count": null,
   "id": "a4931e72",
   "metadata": {},
   "outputs": [],
   "source": []
  },
  {
   "cell_type": "code",
   "execution_count": null,
   "id": "92b8b462",
   "metadata": {},
   "outputs": [],
   "source": []
  }
 ],
 "metadata": {
  "kernelspec": {
   "display_name": "Python 3",
   "language": "python",
   "name": "python3"
  },
  "language_info": {
   "codemirror_mode": {
    "name": "ipython",
    "version": 3
   },
   "file_extension": ".py",
   "mimetype": "text/x-python",
   "name": "python",
   "nbconvert_exporter": "python",
   "pygments_lexer": "ipython3",
   "version": "3.8.8"
  }
 },
 "nbformat": 4,
 "nbformat_minor": 5
}
