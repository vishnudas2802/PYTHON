{
 "cells": [
  {
   "cell_type": "code",
   "execution_count": 1,
   "id": "44ebad09",
   "metadata": {},
   "outputs": [
    {
     "name": "stdout",
     "output_type": "stream",
     "text": [
      "Twinkle, twinkle, little star, How I wonder what you are. Up above the world so high, Like a diamond in the sky. \n"
     ]
    }
   ],
   "source": [
    "# 1. Problem\n",
    "print('Twinkle, twinkle, little star, How I wonder what you are. Up above the world so high, Like a diamond in the sky. ')"
   ]
  },
  {
   "cell_type": "code",
   "execution_count": 12,
   "id": "8fe36bfb",
   "metadata": {},
   "outputs": [
    {
     "data": {
      "text/plain": [
       "5"
      ]
     },
     "execution_count": 12,
     "metadata": {},
     "output_type": "execute_result"
    }
   ],
   "source": [
    "# 2. Problen\n",
    "5*1"
   ]
  },
  {
   "cell_type": "code",
   "execution_count": 3,
   "id": "4b84543d",
   "metadata": {},
   "outputs": [
    {
     "data": {
      "text/plain": [
       "10"
      ]
     },
     "execution_count": 3,
     "metadata": {},
     "output_type": "execute_result"
    }
   ],
   "source": [
    "5*2"
   ]
  },
  {
   "cell_type": "code",
   "execution_count": 4,
   "id": "12be484f",
   "metadata": {},
   "outputs": [
    {
     "data": {
      "text/plain": [
       "15"
      ]
     },
     "execution_count": 4,
     "metadata": {},
     "output_type": "execute_result"
    }
   ],
   "source": [
    "5*3"
   ]
  },
  {
   "cell_type": "code",
   "execution_count": 5,
   "id": "0554fd4b",
   "metadata": {},
   "outputs": [
    {
     "data": {
      "text/plain": [
       "20"
      ]
     },
     "execution_count": 5,
     "metadata": {},
     "output_type": "execute_result"
    }
   ],
   "source": [
    "5*4"
   ]
  },
  {
   "cell_type": "code",
   "execution_count": 6,
   "id": "593493e4",
   "metadata": {},
   "outputs": [
    {
     "data": {
      "text/plain": [
       "25"
      ]
     },
     "execution_count": 6,
     "metadata": {},
     "output_type": "execute_result"
    }
   ],
   "source": [
    "5*5"
   ]
  },
  {
   "cell_type": "code",
   "execution_count": 7,
   "id": "36aeac70",
   "metadata": {},
   "outputs": [
    {
     "data": {
      "text/plain": [
       "30"
      ]
     },
     "execution_count": 7,
     "metadata": {},
     "output_type": "execute_result"
    }
   ],
   "source": [
    "5*6"
   ]
  },
  {
   "cell_type": "code",
   "execution_count": 8,
   "id": "660dfcf2",
   "metadata": {},
   "outputs": [
    {
     "data": {
      "text/plain": [
       "35"
      ]
     },
     "execution_count": 8,
     "metadata": {},
     "output_type": "execute_result"
    }
   ],
   "source": [
    "5*7"
   ]
  },
  {
   "cell_type": "code",
   "execution_count": 9,
   "id": "45d97040",
   "metadata": {},
   "outputs": [
    {
     "data": {
      "text/plain": [
       "40"
      ]
     },
     "execution_count": 9,
     "metadata": {},
     "output_type": "execute_result"
    }
   ],
   "source": [
    "5*8"
   ]
  },
  {
   "cell_type": "code",
   "execution_count": 10,
   "id": "7b38dda3",
   "metadata": {},
   "outputs": [
    {
     "data": {
      "text/plain": [
       "45"
      ]
     },
     "execution_count": 10,
     "metadata": {},
     "output_type": "execute_result"
    }
   ],
   "source": [
    "5*9"
   ]
  },
  {
   "cell_type": "code",
   "execution_count": 11,
   "id": "82311851",
   "metadata": {},
   "outputs": [
    {
     "data": {
      "text/plain": [
       "50"
      ]
     },
     "execution_count": 11,
     "metadata": {},
     "output_type": "execute_result"
    }
   ],
   "source": [
    "5*10"
   ]
  },
  {
   "cell_type": "code",
   "execution_count": 13,
   "id": "c4bebbd9",
   "metadata": {},
   "outputs": [],
   "source": [
    "# 3. Problem"
   ]
  },
  {
   "cell_type": "code",
   "execution_count": null,
   "id": "aceae224",
   "metadata": {},
   "outputs": [],
   "source": [
    "from playsound import playsound\n",
    "playsound('C:\\\\Users\\\\win10\\\\01 - Oh Oh Oh My Friend [DoReGaMa].mp3')"
   ]
  },
  {
   "cell_type": "code",
   "execution_count": 1,
   "id": "58e2e495",
   "metadata": {},
   "outputs": [],
   "source": [
    "# 4. Problem"
   ]
  },
  {
   "cell_type": "code",
   "execution_count": 4,
   "id": "feb848eb",
   "metadata": {},
   "outputs": [],
   "source": [
    "# importing module OS\n",
    "import os"
   ]
  },
  {
   "cell_type": "code",
   "execution_count": 5,
   "id": "aaa2e548",
   "metadata": {},
   "outputs": [
    {
     "name": "stdout",
     "output_type": "stream",
     "text": [
      "['.Altair', '.BETA', '.cfx', '.conda', '.condarc', '.continuum', '.flrecent', '.InstallAnywhere', '.ipynb_checkpoints', '.ipython', '.jupyter', '.matplotlib', '.msca', '.pyforest', '.vscode', '01 - Oh Oh Oh My Friend [DoReGaMa].mp3', '3D Objects', 'adrvctl_304566.bat', 'adrvctl_449036.bat', 'anaconda3', 'ANSA_Input.log', 'AppData', 'Application Data', 'aview.log', 'cleanup-fluent-DESKTOP-PBEOAP8-10384.bat', 'Contacts', 'Cookies', 'delete it-Copy1.ipynb', 'delete it.ipynb', 'Desktop', 'Documents', 'Downloads', 'encryptedtickets.pdf', 'Favorites', 'file.db', 'file.err', 'file.log', 'hweDefaultWS', 'ia_remove.sh5813.tmp', 'ia_remove.sh9484.tmp', 'InstallAnywhere', 'IntelGraphicsProfiles', 'is vs ==.ipynb', 'Links', 'Local Settings', 'MicrosoftEdgeBackups', 'Modules Commensts and Pip Class.ipynb', 'Music', 'My Documents', 'MY FIRST PROGRAM.ipynb', 'mysite', 'NetHood', 'NTUSER.DAT', 'ntuser.dat.LOG1', 'ntuser.dat.LOG2', 'NTUSER.DAT{9045826b-1b84-11eb-bb87-9e394c45f0a8}.TM.blf', 'NTUSER.DAT{9045826b-1b84-11eb-bb87-9e394c45f0a8}.TMContainer00000000000000000001.regtrans-ms', 'NTUSER.DAT{9045826b-1b84-11eb-bb87-9e394c45f0a8}.TMContainer00000000000000000002.regtrans-ms', 'ntuser.ini', 'OneDrive', 'Pictures', 'PrintHood', 'PycharmProjects', 'pythonctl.bat', 'Recent', 'Saved Games', 'seaborn-data', 'Searches', 'SendTo', 'Start Menu', 'Templates', 'Untitled Folder', 'Untitled Folder 1', 'Untitled.ipynb', 'Untitled1.ipynb', 'Untitled2.ipynb', 'Untitled3.ipynb', 'Untitled4.ipynb', 'Untitled5.ipynb', 'Untitled6.ipynb', 'Untitled7.ipynb', 'Untitled8.ipynb', 'Untitled9.ipynb', 'Videos']\n"
     ]
    }
   ],
   "source": [
    "#Printing the dir\n",
    "print(os.listdir())"
   ]
  },
  {
   "cell_type": "code",
   "execution_count": null,
   "id": "46dc6985",
   "metadata": {},
   "outputs": [],
   "source": []
  }
 ],
 "metadata": {
  "kernelspec": {
   "display_name": "Python 3",
   "language": "python",
   "name": "python3"
  },
  "language_info": {
   "codemirror_mode": {
    "name": "ipython",
    "version": 3
   },
   "file_extension": ".py",
   "mimetype": "text/x-python",
   "name": "python",
   "nbconvert_exporter": "python",
   "pygments_lexer": "ipython3",
   "version": "3.8.8"
  }
 },
 "nbformat": 4,
 "nbformat_minor": 5
}
